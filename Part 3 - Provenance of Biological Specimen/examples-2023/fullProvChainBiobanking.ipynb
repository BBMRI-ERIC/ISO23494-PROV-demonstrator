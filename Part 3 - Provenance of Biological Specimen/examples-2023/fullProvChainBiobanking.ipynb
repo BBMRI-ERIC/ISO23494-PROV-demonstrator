{
  "nbformat": 4,
  "nbformat_minor": 0,
  "metadata": {
    "colab": {
      "name": "sampleDeliveryProv.ipynb",
      "provenance": [],
      "include_colab_link": true
    },
    "kernelspec": {
      "name": "python3",
      "display_name": "Python 3"
    }
  },
  "cells": [
    {
      "cell_type": "markdown",
      "metadata": {
        "id": "view-in-github",
        "colab_type": "text"
      },
      "source": [
        "<a href=\"https://colab.research.google.com/github/BBMRI-ERIC/ISO23494-PROV-demonstrator/blob/main/Part%203%20-%20Provenance%20of%20Biological%20Specimen/examples-2023/fullProvChainBiobanking.ipynb\" target=\"_parent\"><img src=\"https://colab.research.google.com/assets/colab-badge.svg\" alt=\"Open In Colab\"/></a>"
      ]
    },
    {
      "cell_type": "code",
      "metadata": {
        "id": "U0_gVaW2WTyA"
      },
      "source": [
        "#\n",
        "# INSTALL PACKAGES\n",
        "#\n",
        "!pip install prov"
      ],
      "execution_count": null,
      "outputs": []
    },
    {
      "cell_type": "code",
      "metadata": {
        "colab": {
          "base_uri": "https://localhost:8080/"
        },
        "id": "cnr5xR9JWU1N",
        "outputId": "60e08356-7f0d-487b-8271-7b92cde23d12"
      },
      "source": [
        "import prov.model as prov\n",
        "import json\n",
        "\n",
        "from prov.dot import prov_to_dot\n",
        "from IPython.display import SVG\n",
        "\n",
        "document = prov.ProvDocument()\n",
        "\n",
        "document.set_default_namespace('https://github.com/BBMRI-ERIC/ISO23494-PROV-demonstrator/tree/main/https://github.com/BBMRI-ERIC/ISO23494-PROV-demonstrator/tree/main/Part%203%20-%20Provenance%20of%20Biological%20Specimen/examples-2023/Biobank')\n",
        "document.add_namespace('cpim', 'http://cpim.org/')\n",
        "document.add_namespace('cpm', 'http://part2-common-provenance-model.ISO-23494.org/')\n",
        "document.add_namespace('pbm', 'http://part3-provenance-of-biological-material.ISO-23494.org/')\n",
        "document.add_namespace('obo', 'http://purl.obolibrary.org/obo/')\n",
        "document.add_namespace('biobank', 'http://demo-biobank.org/')\n",
        "document.add_namespace('hospital', 'http://demo-hospital.org/')\n",
        "\n",
        "######################Biobank_delivery20201121_5784167######################\n",
        "biobank20201121_5784167 = document.bundle('biobank:Biobank_biobank20201121_5784167')\n",
        "document.set_default_namespace('https://github.com/BBMRI-ERIC/ISO23494-PROV-demonstrator/tree/main/https://github.com/BBMRI-ERIC/ISO23494-PROV-demonstrator/tree/main/Part%203%20-%20Provenance%20of%20Biological%20Specimen/examples-2023/biobank_2020-11-21_5784167')\n",
        "\n",
        "###################### Actors in Biobank ######################\n",
        "biobank20201121_5784167.agent('biobank:WORKER_7275457', {prov.PROV_TYPE: 'prov:Person', 'name': \"Anna Aligator\"})\n",
        "biobank20201121_5784167.agent('biobank:WORKER_7275987', {prov.PROV_TYPE: 'prov:Person', 'name': \"Tom Turkey\"})\n",
        "\n",
        "################### Sample, delivered to researcher ######################\n",
        "Sample_215784545 = biobank20201121_5784167.entity('biobank:sample_215784545', (\n",
        "    (prov.PROV_TYPE, \"pbm:Sample\"),\n",
        "    ('pbm:sampleIdentifier', \"demo-bb-study2023-08:sample007\"),\n",
        "    ('pbm:sampleType', \"obo:OMIABIS_0000052\"),\n",
        "    ('pbm:samplePreservation', \"obo:OMIABIS_0000911\"),\n",
        "    ('pbm:sampleQuantity', \"1\")\n",
        "    ))\n",
        "\n",
        "biobank20201121_5784167.activity('biobank:act_57585', '2020-11-23T10:22:01.024000+01:00','2020-11-21T08:15:00.024000+01:00', {prov.PROV_TYPE: \"pbm:Distribution\"})\n",
        "biobank20201121_5784167.wasAssociatedWith('biobank:act_57585', 'biobank:WORKER_7275457',None,None, {prov.PROV_ROLE: \"sort in\"})\n",
        "biobank20201121_5784167.used('biobank:sample_215784545','biobank:act_57585' )\n",
        "\n",
        "################### Same sample with the barcode used in the Biobank  ######################\n",
        "Sample_215784544 = biobank20201121_5784167.entity('biobank:sample_215784544', ((prov.PROV_TYPE, \"pbm:Sample\"),('cpim:externalId', \"2007-PAT-34441208197199889-7780-BLK-LY\")))\n",
        "biobank20201121_5784167.wasDerivedFrom('biobank:sample_215784545' ,'biobank:sample_215784544')\n",
        "\n",
        "#Relabeling\n",
        "biobank20201121_5784167.activity('biobank:act_57584', '2020-11-22T08:15:01.024000+01:00', None, {prov.PROV_TYPE: \"pbm:Processing\"})\n",
        "biobank20201121_5784167.wasAssociatedWith('biobank:act_57584', 'biobank:WORKER_7275457',None,None, {prov.PROV_ROLE: \"sort in\"})\n",
        "biobank20201121_5784167.used('biobank:sample_215784544','biobank:act_57584' )\n",
        "\n",
        "#Receiving from Biobank\n",
        "Sample_215784543 = biobank20201121_5784167.entity('biobank:sample_215784543', ((prov.PROV_TYPE, \"pbm:Sample\"),('cpim:externalId', \"2007-PAT-34441208197199889-7780-BLK-LY\")))\n",
        "biobank20201121_5784167.wasDerivedFrom('biobank:sample_215784544' ,'biobank:sample_215784543')\n",
        "biobank20201121_5784167.activity('biobank:act_15754', '2020-11-21T12:00:01.024000+01:00',None, {prov.PROV_TYPE: \"pbm:Receiving\"})\n",
        "biobank20201121_5784167.wasAssociatedWith('biobank:act_15754', 'biobank:WORKER_7275987',None,None, {prov.PROV_ROLE: \"pick\"})\n",
        "biobank20201121_5784167.used('biobank:sample_2157845433','biobank:act_15754' )\n",
        "\n",
        "#Storing in Biobank\n",
        "Sample_215784542 = biobank20201121_5784167.entity('biobank:sample_215784542', ((prov.PROV_TYPE, \"pbm:Sample\"),('cpim:externalId', \"2007-PAT-34441208197199889-7780-BLK-LY\")))\n",
        "biobank20201121_5784167.wasDerivedFrom('biobank:sample_215784543' ,'biobank:sample_215784542')\n",
        "biobank20201121_5784167.activity('biobank:act_57582', '1988-05-04T08:00:00.024000+01:00','2020-11-21T12:00:01.024000+01:00', {prov.PROV_TYPE: \"pbm:Storing\"})\n",
        "biobank20201121_5784167.wasAssociatedWith('biobank:act_57584', 'biobank:WORKER_7275457',None,None, {prov.PROV_ROLE: \"sort in\"})\n",
        "biobank20201121_5784167.used('biobank:SLIDE_215784542','biobank:act_57584' )\n",
        "\n",
        "\n",
        "document.get_provn() # =>\n",
        "\n",
        "provn = document.serialize(format='provn')\n",
        "print(provn)\n"
      ],
      "execution_count": 9,
      "outputs": [
        {
          "output_type": "stream",
          "name": "stdout",
          "text": [
            "document\n",
            "  default <https://github.com/BBMRI-ERIC/ISO23494-PROV-demonstrator/tree/main/https://github.com/BBMRI-ERIC/ISO23494-PROV-demonstrator/tree/main/Part%203%20-%20Provenance%20of%20Biological%20Specimen/examples-2023/biobank_2020-11-21_5784167>\n",
            "  prefix cpim <http://cpim.org/>\n",
            "  prefix cpm <http://part2-common-provenance-model.ISO-23494.org/>\n",
            "  prefix pbm <http://part3-provenance-of-biological-material.ISO-23494.org/>\n",
            "  prefix obo <http://purl.obolibrary.org/obo/>\n",
            "  prefix biobank <http://demo-biobank.org/>\n",
            "  prefix hospital <http://demo-hospital.org/>\n",
            "  \n",
            "  bundle biobank:Biobank_biobank20201121_5784167\n",
            "    agent(biobank:WORKER_7275457, [prov:type=\"prov:Person\", name=\"Anna Aligator\"])\n",
            "    agent(biobank:WORKER_7275987, [prov:type=\"prov:Person\", name=\"Tom Turkey\"])\n",
            "    entity(biobank:sample_215784545, [prov:type=\"pbm:Sample\", pbm:sampleIdentifier=\"demo-bb-study2023-08:sample007\", pbm:sampleType=\"obo:OMIABIS_0000052\", pbm:samplePreservation=\"obo:OMIABIS_0000911\", pbm:sampleQuantity=\"1\"])\n",
            "    activity(biobank:act_57585, 2020-11-23T10:22:01.024000+01:00, 2020-11-21T08:15:00.024000+01:00, [prov:type=\"pbm:Distribution\"])\n",
            "    wasAssociatedWith(biobank:act_57585, biobank:WORKER_7275457, -, [prov:role=\"sort in\"])\n",
            "    used(biobank:sample_215784545, biobank:act_57585, -)\n",
            "    entity(biobank:sample_215784544, [prov:type=\"pbm:Sample\", cpim:externalId=\"2007-PAT-34441208197199889-7780-BLK-LY\"])\n",
            "    wasDerivedFrom(biobank:sample_215784545, biobank:sample_215784544, -, -, -)\n",
            "    activity(biobank:act_57584, 2020-11-22T08:15:01.024000+01:00, -, [prov:type=\"pbm:Processing\"])\n",
            "    wasAssociatedWith(biobank:act_57584, biobank:WORKER_7275457, -, [prov:role=\"sort in\"])\n",
            "    used(biobank:sample_215784544, biobank:act_57584, -)\n",
            "    entity(biobank:sample_215784543, [prov:type=\"pbm:Sample\", cpim:externalId=\"2007-PAT-34441208197199889-7780-BLK-LY\"])\n",
            "    wasDerivedFrom(biobank:sample_215784544, biobank:sample_215784543, -, -, -)\n",
            "    activity(biobank:act_15754, 2020-11-21T12:00:01.024000+01:00, -, [prov:type=\"pbm:Receiving\"])\n",
            "    wasAssociatedWith(biobank:act_15754, biobank:WORKER_7275987, -, [prov:role=\"pick\"])\n",
            "    used(biobank:sample_2157845433, biobank:act_15754, -)\n",
            "    entity(biobank:sample_215784542, [prov:type=\"pbm:Sample\", cpim:externalId=\"2007-PAT-34441208197199889-7780-BLK-LY\"])\n",
            "    wasDerivedFrom(biobank:sample_215784543, biobank:sample_215784542, -, -, -)\n",
            "    activity(biobank:act_57582, 1988-05-04T08:00:00.024000+01:00, 2020-11-21T12:00:01.024000+01:00, [prov:type=\"pbm:Storing\"])\n",
            "    wasAssociatedWith(biobank:act_57584, biobank:WORKER_7275457, -, [prov:role=\"sort in\"])\n",
            "    used(biobank:SLIDE_215784542, biobank:act_57584, -)\n",
            "  endBundle\n",
            "endDocument\n"
          ]
        }
      ]
    },
    {
      "cell_type": "code",
      "metadata": {
        "id": "G4ggyUFbw7cJ",
        "outputId": "348a1f01-6745-4450-a739-dfe4c6f58e39",
        "colab": {
          "base_uri": "https://localhost:8080/"
        }
      },
      "source": [
        "#Print in Json Style\n",
        "jsonstring  = json.loads (document.serialize())\n",
        "print(json.dumps(jsonstring, indent=4))\n"
      ],
      "execution_count": 10,
      "outputs": [
        {
          "output_type": "stream",
          "name": "stdout",
          "text": [
            "{\n",
            "    \"prefix\": {\n",
            "        \"cpim\": \"http://cpim.org/\",\n",
            "        \"cpm\": \"http://part2-common-provenance-model.ISO-23494.org/\",\n",
            "        \"pbm\": \"http://part3-provenance-of-biological-material.ISO-23494.org/\",\n",
            "        \"obo\": \"http://purl.obolibrary.org/obo/\",\n",
            "        \"biobank\": \"http://demo-biobank.org/\",\n",
            "        \"hospital\": \"http://demo-hospital.org/\",\n",
            "        \"default\": \"https://github.com/BBMRI-ERIC/ISO23494-PROV-demonstrator/tree/main/https://github.com/BBMRI-ERIC/ISO23494-PROV-demonstrator/tree/main/Part%203%20-%20Provenance%20of%20Biological%20Specimen/examples-2023/biobank_2020-11-21_5784167\"\n",
            "    },\n",
            "    \"bundle\": {\n",
            "        \"biobank:Biobank_biobank20201121_5784167\": {\n",
            "            \"agent\": {\n",
            "                \"biobank:WORKER_7275457\": {\n",
            "                    \"prov:type\": \"prov:Person\",\n",
            "                    \"name\": \"Anna Aligator\"\n",
            "                },\n",
            "                \"biobank:WORKER_7275987\": {\n",
            "                    \"prov:type\": \"prov:Person\",\n",
            "                    \"name\": \"Tom Turkey\"\n",
            "                }\n",
            "            },\n",
            "            \"entity\": {\n",
            "                \"biobank:sample_215784545\": {\n",
            "                    \"prov:type\": \"pbm:Sample\",\n",
            "                    \"pbm:sampleIdentifier\": \"demo-bb-study2023-08:sample007\",\n",
            "                    \"pbm:sampleType\": \"obo:OMIABIS_0000052\",\n",
            "                    \"pbm:samplePreservation\": \"obo:OMIABIS_0000911\",\n",
            "                    \"pbm:sampleQuantity\": \"1\"\n",
            "                },\n",
            "                \"biobank:sample_215784544\": {\n",
            "                    \"prov:type\": \"pbm:Sample\",\n",
            "                    \"cpim:externalId\": \"2007-PAT-34441208197199889-7780-BLK-LY\"\n",
            "                },\n",
            "                \"biobank:sample_215784543\": {\n",
            "                    \"prov:type\": \"pbm:Sample\",\n",
            "                    \"cpim:externalId\": \"2007-PAT-34441208197199889-7780-BLK-LY\"\n",
            "                },\n",
            "                \"biobank:sample_215784542\": {\n",
            "                    \"prov:type\": \"pbm:Sample\",\n",
            "                    \"cpim:externalId\": \"2007-PAT-34441208197199889-7780-BLK-LY\"\n",
            "                }\n",
            "            },\n",
            "            \"activity\": {\n",
            "                \"biobank:act_57585\": {\n",
            "                    \"prov:startTime\": \"2020-11-23T10:22:01.024000+01:00\",\n",
            "                    \"prov:endTime\": \"2020-11-21T08:15:00.024000+01:00\",\n",
            "                    \"prov:type\": \"pbm:Distribution\"\n",
            "                },\n",
            "                \"biobank:act_57584\": {\n",
            "                    \"prov:startTime\": \"2020-11-22T08:15:01.024000+01:00\",\n",
            "                    \"prov:type\": \"pbm:Processing\"\n",
            "                },\n",
            "                \"biobank:act_15754\": {\n",
            "                    \"prov:startTime\": \"2020-11-21T12:00:01.024000+01:00\",\n",
            "                    \"prov:type\": \"pbm:Receiving\"\n",
            "                },\n",
            "                \"biobank:act_57582\": {\n",
            "                    \"prov:startTime\": \"1988-05-04T08:00:00.024000+01:00\",\n",
            "                    \"prov:endTime\": \"2020-11-21T12:00:01.024000+01:00\",\n",
            "                    \"prov:type\": \"pbm:Storing\"\n",
            "                }\n",
            "            },\n",
            "            \"wasAssociatedWith\": {\n",
            "                \"_:id1\": {\n",
            "                    \"prov:activity\": \"biobank:act_57585\",\n",
            "                    \"prov:agent\": \"biobank:WORKER_7275457\",\n",
            "                    \"prov:role\": \"sort in\"\n",
            "                },\n",
            "                \"_:id4\": [\n",
            "                    {\n",
            "                        \"prov:activity\": \"biobank:act_57584\",\n",
            "                        \"prov:agent\": \"biobank:WORKER_7275457\",\n",
            "                        \"prov:role\": \"sort in\"\n",
            "                    },\n",
            "                    {\n",
            "                        \"prov:activity\": \"biobank:act_57584\",\n",
            "                        \"prov:agent\": \"biobank:WORKER_7275457\",\n",
            "                        \"prov:role\": \"sort in\"\n",
            "                    }\n",
            "                ],\n",
            "                \"_:id7\": {\n",
            "                    \"prov:activity\": \"biobank:act_15754\",\n",
            "                    \"prov:agent\": \"biobank:WORKER_7275987\",\n",
            "                    \"prov:role\": \"pick\"\n",
            "                }\n",
            "            },\n",
            "            \"used\": {\n",
            "                \"_:id2\": {\n",
            "                    \"prov:activity\": \"biobank:sample_215784545\",\n",
            "                    \"prov:entity\": \"biobank:act_57585\"\n",
            "                },\n",
            "                \"_:id5\": {\n",
            "                    \"prov:activity\": \"biobank:sample_215784544\",\n",
            "                    \"prov:entity\": \"biobank:act_57584\"\n",
            "                },\n",
            "                \"_:id8\": {\n",
            "                    \"prov:activity\": \"biobank:sample_2157845433\",\n",
            "                    \"prov:entity\": \"biobank:act_15754\"\n",
            "                },\n",
            "                \"_:id10\": {\n",
            "                    \"prov:activity\": \"biobank:SLIDE_215784542\",\n",
            "                    \"prov:entity\": \"biobank:act_57584\"\n",
            "                }\n",
            "            },\n",
            "            \"wasDerivedFrom\": {\n",
            "                \"_:id3\": {\n",
            "                    \"prov:generatedEntity\": \"biobank:sample_215784545\",\n",
            "                    \"prov:usedEntity\": \"biobank:sample_215784544\"\n",
            "                },\n",
            "                \"_:id6\": {\n",
            "                    \"prov:generatedEntity\": \"biobank:sample_215784544\",\n",
            "                    \"prov:usedEntity\": \"biobank:sample_215784543\"\n",
            "                },\n",
            "                \"_:id9\": {\n",
            "                    \"prov:generatedEntity\": \"biobank:sample_215784543\",\n",
            "                    \"prov:usedEntity\": \"biobank:sample_215784542\"\n",
            "                }\n",
            "            }\n",
            "        }\n",
            "    }\n",
            "}\n"
          ]
        }
      ]
    },
    {
      "cell_type": "code",
      "metadata": {
        "colab": {
          "base_uri": "https://localhost:8080/",
          "height": 984
        },
        "id": "It60N20ww8BK",
        "outputId": "96fb9f3d-5e49-4bb3-9f95-be86dec0ed81"
      },
      "source": [
        "#Show SVG\n",
        "dotrep =   prov_to_dot(document)\n",
        "svg_content = dotrep.create(format=\"svg\", encoding=\"utf-8\")\n",
        "SVG(svg_content)"
      ],
      "execution_count": 11,
      "outputs": [
        {
          "output_type": "execute_result",
          "data": {
            "text/plain": [
              "<IPython.core.display.SVG object>"
            ],
            "image/svg+xml": "<svg xmlns=\"http://www.w3.org/2000/svg\" xmlns:xlink=\"http://www.w3.org/1999/xlink\" width=\"1029pt\" height=\"722pt\" viewBox=\"0.00 0.00 1029.00 722.00\">\n<g id=\"graph0\" class=\"graph\" transform=\"scale(1 1) rotate(0) translate(4 718)\">\n<title>G</title>\n<polygon fill=\"white\" stroke=\"transparent\" points=\"-4,4 -4,-718 1025,-718 1025,4 -4,4\"/>\n<g id=\"clust1\" class=\"cluster\">\n<title>cluster_c1</title>\n<g id=\"a_clust1\"><a xlink:href=\"http://demo-biobank.org/Biobank_biobank20201121_5784167\" xlink:title=\"biobank:Biobank_biobank20201121_5784167\">\n<polygon fill=\"none\" stroke=\"black\" points=\"8,-8 8,-706 1013,-706 1013,-8 8,-8\"/>\n<text text-anchor=\"middle\" x=\"510.5\" y=\"-15.8\" font-family=\"Times,serif\" font-size=\"14.00\">biobank:Biobank_biobank20201121_5784167</text>\n</a>\n</g>\n</g>\n<!-- n1 -->\n<g id=\"node1\" class=\"node\">\n<title>n1</title>\n<g id=\"a_node1\"><a xlink:href=\"http://demo-biobank.org/WORKER_7275457\" xlink:title=\"biobank:WORKER_7275457\">\n<polygon fill=\"#fed37f\" stroke=\"black\" points=\"755.39,-612.56 613,-625 470.61,-612.56 470.74,-592.44 755.26,-592.44 755.39,-612.56\"/>\n<text text-anchor=\"middle\" x=\"613\" y=\"-603.3\" font-family=\"Times,serif\" font-size=\"14.00\">biobank:WORKER_7275457</text>\n</a>\n</g>\n</g>\n<!-- ann1 -->\n<g id=\"node2\" class=\"node\">\n<title>ann1</title>\n<polygon fill=\"none\" stroke=\"gray\" points=\"587,-542 471,-542 471,-506 593,-506 593,-536 587,-542\"/>\n<polyline fill=\"none\" stroke=\"gray\" points=\"587,-542 587,-536 \"/>\n<polyline fill=\"none\" stroke=\"gray\" points=\"593,-536 587,-536 \"/>\n<g id=\"a_node2_0\"><a xlink:href=\"http://www.w3.org/ns/prov#type\" xlink:title=\"&lt;TABLE&gt;\">\n<text text-anchor=\"start\" x=\"481\" y=\"-528\" font-family=\"Times,serif\" font-size=\"10.00\">prov:type</text>\n</a>\n</g>\n<text text-anchor=\"start\" x=\"523\" y=\"-528\" font-family=\"Times,serif\" font-size=\"10.00\">prov:Person</text>\n<g id=\"a_node2_1\"><a xlink:href=\"https://github.com/BBMRI-ERIC/ISO23494-PROV-demonstrator/tree/main/https://github.com/BBMRI-ERIC/ISO23494-PROV-demonstrator/tree/main/Part%203%20-%20Provenance%20of%20Biological%20Specimen/examples-2023/biobank_2020-11-21_5784167name\" xlink:title=\"&lt;TABLE&gt;\">\n<text text-anchor=\"start\" x=\"481\" y=\"-515\" font-family=\"Times,serif\" font-size=\"10.00\">name</text>\n</a>\n</g>\n<text text-anchor=\"start\" x=\"523\" y=\"-515\" font-family=\"Times,serif\" font-size=\"10.00\">Anna Aligator</text>\n</g>\n<!-- ann1&#45;&gt;n1 -->\n<g id=\"edge1\" class=\"edge\">\n<title>ann1-&gt;n1</title>\n<path fill=\"none\" stroke=\"gray\" stroke-dasharray=\"5,2\" d=\"M549.18,-542.18C564.13,-557.13 585.52,-578.52 599.33,-592.33\"/>\n</g>\n<!-- n2 -->\n<g id=\"node3\" class=\"node\">\n<title>n2</title>\n<g id=\"a_node3\"><a xlink:href=\"http://demo-biobank.org/WORKER_7275987\" xlink:title=\"biobank:WORKER_7275987\">\n<polygon fill=\"#fed37f\" stroke=\"black\" points=\"561.39,-363.56 419,-376 276.61,-363.56 276.74,-343.44 561.26,-343.44 561.39,-363.56\"/>\n<text text-anchor=\"middle\" x=\"419\" y=\"-354.3\" font-family=\"Times,serif\" font-size=\"14.00\">biobank:WORKER_7275987</text>\n</a>\n</g>\n</g>\n<!-- ann2 -->\n<g id=\"node4\" class=\"node\">\n<title>ann2</title>\n<polygon fill=\"none\" stroke=\"gray\" points=\"759,-293 653,-293 653,-257 765,-257 765,-287 759,-293\"/>\n<polyline fill=\"none\" stroke=\"gray\" points=\"759,-293 759,-287 \"/>\n<polyline fill=\"none\" stroke=\"gray\" points=\"765,-287 759,-287 \"/>\n<g id=\"a_node4_2\"><a xlink:href=\"http://www.w3.org/ns/prov#type\" xlink:title=\"&lt;TABLE&gt;\">\n<text text-anchor=\"start\" x=\"663\" y=\"-279\" font-family=\"Times,serif\" font-size=\"10.00\">prov:type</text>\n</a>\n</g>\n<text text-anchor=\"start\" x=\"705\" y=\"-279\" font-family=\"Times,serif\" font-size=\"10.00\">prov:Person</text>\n<g id=\"a_node4_3\"><a xlink:href=\"https://github.com/BBMRI-ERIC/ISO23494-PROV-demonstrator/tree/main/https://github.com/BBMRI-ERIC/ISO23494-PROV-demonstrator/tree/main/Part%203%20-%20Provenance%20of%20Biological%20Specimen/examples-2023/biobank_2020-11-21_5784167name\" xlink:title=\"&lt;TABLE&gt;\">\n<text text-anchor=\"start\" x=\"663\" y=\"-266\" font-family=\"Times,serif\" font-size=\"10.00\">name</text>\n</a>\n</g>\n<text text-anchor=\"start\" x=\"705\" y=\"-266\" font-family=\"Times,serif\" font-size=\"10.00\">Tom Turkey</text>\n</g>\n<!-- ann2&#45;&gt;n2 -->\n<g id=\"edge2\" class=\"edge\">\n<title>ann2-&gt;n2</title>\n<path fill=\"none\" stroke=\"gray\" stroke-dasharray=\"5,2\" d=\"M652.74,-291.71C599.04,-306.71 518.97,-329.08 467.87,-343.35\"/>\n</g>\n<!-- n3 -->\n<g id=\"node5\" class=\"node\">\n<title>n3</title>\n<g id=\"a_node5\"><a xlink:href=\"http://demo-biobank.org/sample_215784545\" xlink:title=\"biobank:sample_215784545\">\n<ellipse fill=\"#fffc87\" stroke=\"#808080\" cx=\"520\" cy=\"-185.5\" rx=\"110.48\" ry=\"18\"/>\n<text text-anchor=\"middle\" x=\"520\" y=\"-181.8\" font-family=\"Times,serif\" font-size=\"14.00\">biobank:sample_215784545</text>\n</a>\n</g>\n</g>\n<!-- n4 -->\n<g id=\"node7\" class=\"node\">\n<title>n4</title>\n<g id=\"a_node7\"><a xlink:href=\"http://demo-biobank.org/act_57585\" xlink:title=\"biobank:act_57585\">\n<polygon fill=\"#9fb1fc\" stroke=\"#0000ff\" points=\"240,-293 120,-293 120,-257 240,-257 240,-293\"/>\n<text text-anchor=\"middle\" x=\"180\" y=\"-271.3\" font-family=\"Times,serif\" font-size=\"14.00\">biobank:act_57585</text>\n</a>\n</g>\n</g>\n<!-- n3&#45;&gt;n4 -->\n<g id=\"edge14\" class=\"edge\">\n<title>n3-&gt;n4</title>\n<path fill=\"none\" stroke=\"#8b0000\" d=\"M463.47,-201.05C404.86,-216.13 313.13,-239.74 249.98,-255.99\"/>\n<polygon fill=\"#8b0000\" stroke=\"#8b0000\" points=\"248.91,-252.65 240.1,-258.53 250.66,-259.43 248.91,-252.65\"/>\n<text text-anchor=\"middle\" x=\"359.5\" y=\"-231\" font-family=\"Times,serif\" font-size=\"10.00\" fill=\"red\">used</text>\n</g>\n<!-- b2 -->\n<g id=\"node23\" class=\"node\">\n<title>b2</title>\n<ellipse fill=\"gray\" stroke=\"gray\" cx=\"561\" cy=\"-275\" rx=\"1.8\" ry=\"1.8\"/>\n</g>\n<!-- n3&#45;&gt;b2 -->\n<g id=\"edge15\" class=\"edge\">\n<title>n3-&gt;b2</title>\n<path fill=\"none\" stroke=\"black\" d=\"M528.1,-203.79C539.12,-227.3 557.78,-267.13 560.63,-273.21\"/>\n<text text-anchor=\"middle\" x=\"579\" y=\"-231\" font-family=\"Times,serif\" font-size=\"10.00\">wasDerivedFrom</text>\n</g>\n<!-- ann3 -->\n<g id=\"node6\" class=\"node\">\n<title>ann3</title>\n<polygon fill=\"none\" stroke=\"gray\" points=\"547,-114 287,-114 287,-39 553,-39 553,-108 547,-114\"/>\n<polyline fill=\"none\" stroke=\"gray\" points=\"547,-114 547,-108 \"/>\n<polyline fill=\"none\" stroke=\"gray\" points=\"553,-108 547,-108 \"/>\n<g id=\"a_node6_4\"><a xlink:href=\"http://www.w3.org/ns/prov#type\" xlink:title=\"&lt;TABLE&gt;\">\n<text text-anchor=\"start\" x=\"297\" y=\"-99.5\" font-family=\"Times,serif\" font-size=\"10.00\">prov:type</text>\n</a>\n</g>\n<text text-anchor=\"start\" x=\"399\" y=\"-99.5\" font-family=\"Times,serif\" font-size=\"10.00\">pbm:Sample</text>\n<g id=\"a_node6_5\"><a xlink:href=\"http://part3-provenance-of-biological-material.ISO-23494.org/sampleIdentifier\" xlink:title=\"&lt;TABLE&gt;\">\n<text text-anchor=\"start\" x=\"297\" y=\"-86.5\" font-family=\"Times,serif\" font-size=\"10.00\">pbm:sampleIdentifier</text>\n</a>\n</g>\n<text text-anchor=\"start\" x=\"399\" y=\"-86.5\" font-family=\"Times,serif\" font-size=\"10.00\">demo-bb-study2023-08:sample007</text>\n<g id=\"a_node6_6\"><a xlink:href=\"http://part3-provenance-of-biological-material.ISO-23494.org/samplePreservation\" xlink:title=\"&lt;TABLE&gt;\">\n<text text-anchor=\"start\" x=\"297\" y=\"-73.5\" font-family=\"Times,serif\" font-size=\"10.00\">pbm:samplePreservation</text>\n</a>\n</g>\n<text text-anchor=\"start\" x=\"399\" y=\"-73.5\" font-family=\"Times,serif\" font-size=\"10.00\">obo:OMIABIS_0000911</text>\n<g id=\"a_node6_7\"><a xlink:href=\"http://part3-provenance-of-biological-material.ISO-23494.org/sampleQuantity\" xlink:title=\"&lt;TABLE&gt;\">\n<text text-anchor=\"start\" x=\"297\" y=\"-60.5\" font-family=\"Times,serif\" font-size=\"10.00\">pbm:sampleQuantity</text>\n</a>\n</g>\n<text text-anchor=\"start\" x=\"399\" y=\"-60.5\" font-family=\"Times,serif\" font-size=\"10.00\">1</text>\n<g id=\"a_node6_8\"><a xlink:href=\"http://part3-provenance-of-biological-material.ISO-23494.org/sampleType\" xlink:title=\"&lt;TABLE&gt;\">\n<text text-anchor=\"start\" x=\"297\" y=\"-47.5\" font-family=\"Times,serif\" font-size=\"10.00\">pbm:sampleType</text>\n</a>\n</g>\n<text text-anchor=\"start\" x=\"399\" y=\"-47.5\" font-family=\"Times,serif\" font-size=\"10.00\">obo:OMIABIS_0000052</text>\n</g>\n<!-- ann3&#45;&gt;n3 -->\n<g id=\"edge3\" class=\"edge\">\n<title>ann3-&gt;n3</title>\n<path fill=\"none\" stroke=\"gray\" stroke-dasharray=\"5,2\" d=\"M454.13,-114.02C471.11,-132.19 490.8,-153.26 504.2,-167.6\"/>\n</g>\n<!-- b1 -->\n<g id=\"node21\" class=\"node\">\n<title>b1</title>\n<ellipse fill=\"gray\" stroke=\"gray\" cx=\"18\" cy=\"-358\" rx=\"1.8\" ry=\"1.8\"/>\n</g>\n<!-- n4&#45;&gt;b1 -->\n<g id=\"edge11\" class=\"edge\">\n<title>n4-&gt;b1</title>\n<path fill=\"none\" stroke=\"#fed37f\" d=\"M119.87,-290.56C89.63,-300.38 54.15,-316.04 29,-340 23.71,-345.04 19.75,-353.11 18.46,-355.96\"/>\n<text text-anchor=\"middle\" x=\"109\" y=\"-314\" font-family=\"Times,serif\" font-size=\"10.00\">wasAssociatedWith</text>\n</g>\n<!-- ann4 -->\n<g id=\"node8\" class=\"node\">\n<title>ann4</title>\n<polygon fill=\"none\" stroke=\"gray\" points=\"386,-210 154,-210 154,-161 392,-161 392,-204 386,-210\"/>\n<polyline fill=\"none\" stroke=\"gray\" points=\"386,-210 386,-204 \"/>\n<polyline fill=\"none\" stroke=\"gray\" points=\"392,-204 386,-204 \"/>\n<g id=\"a_node8_9\"><a xlink:href=\"http://www.w3.org/ns/prov#startTime\" xlink:title=\"&lt;TABLE&gt;\">\n<text text-anchor=\"start\" x=\"164\" y=\"-195.5\" font-family=\"Times,serif\" font-size=\"10.00\">prov:startTime</text>\n</a>\n</g>\n<text text-anchor=\"start\" x=\"227\" y=\"-195.5\" font-family=\"Times,serif\" font-size=\"10.00\">2020-11-23T10:22:01.024000+01:00</text>\n<g id=\"a_node8_10\"><a xlink:href=\"http://www.w3.org/ns/prov#endTime\" xlink:title=\"&lt;TABLE&gt;\">\n<text text-anchor=\"start\" x=\"164\" y=\"-182.5\" font-family=\"Times,serif\" font-size=\"10.00\">prov:endTime</text>\n</a>\n</g>\n<text text-anchor=\"start\" x=\"227\" y=\"-182.5\" font-family=\"Times,serif\" font-size=\"10.00\">2020-11-21T08:15:00.024000+01:00</text>\n<g id=\"a_node8_11\"><a xlink:href=\"http://www.w3.org/ns/prov#type\" xlink:title=\"&lt;TABLE&gt;\">\n<text text-anchor=\"start\" x=\"164\" y=\"-169.5\" font-family=\"Times,serif\" font-size=\"10.00\">prov:type</text>\n</a>\n</g>\n<text text-anchor=\"start\" x=\"227\" y=\"-169.5\" font-family=\"Times,serif\" font-size=\"10.00\">pbm:Distribution</text>\n</g>\n<!-- ann4&#45;&gt;n4 -->\n<g id=\"edge4\" class=\"edge\">\n<title>ann4-&gt;n4</title>\n<path fill=\"none\" stroke=\"gray\" stroke-dasharray=\"5,2\" d=\"M247.59,-210.41C231.99,-225.08 212.38,-243.54 198.3,-256.78\"/>\n</g>\n<!-- n5 -->\n<g id=\"node9\" class=\"node\">\n<title>n5</title>\n<g id=\"a_node9\"><a xlink:href=\"http://demo-biobank.org/sample_215784544\" xlink:title=\"biobank:sample_215784544\">\n<ellipse fill=\"#fffc87\" stroke=\"#808080\" cx=\"148\" cy=\"-358\" rx=\"110.48\" ry=\"18\"/>\n<text text-anchor=\"middle\" x=\"148\" y=\"-354.3\" font-family=\"Times,serif\" font-size=\"14.00\">biobank:sample_215784544</text>\n</a>\n</g>\n</g>\n<!-- n6 -->\n<g id=\"node11\" class=\"node\">\n<title>n6</title>\n<g id=\"a_node11\"><a xlink:href=\"http://demo-biobank.org/act_57584\" xlink:title=\"biobank:act_57584\">\n<polygon fill=\"#9fb1fc\" stroke=\"#0000ff\" points=\"758,-459 638,-459 638,-423 758,-423 758,-459\"/>\n<text text-anchor=\"middle\" x=\"698\" y=\"-437.3\" font-family=\"Times,serif\" font-size=\"14.00\">biobank:act_57584</text>\n</a>\n</g>\n</g>\n<!-- n5&#45;&gt;n6 -->\n<g id=\"edge20\" class=\"edge\">\n<title>n5-&gt;n6</title>\n<path fill=\"none\" stroke=\"#8b0000\" d=\"M228.02,-370.46C241.37,-372.34 255.07,-374.24 268,-376 425.04,-397.35 468.22,-393.33 627.7,-422.87\"/>\n<polygon fill=\"#8b0000\" stroke=\"#8b0000\" points=\"627.4,-426.37 637.88,-424.77 628.69,-419.49 627.4,-426.37\"/>\n<text text-anchor=\"middle\" x=\"526.5\" y=\"-397\" font-family=\"Times,serif\" font-size=\"10.00\" fill=\"red\">used</text>\n</g>\n<!-- b4 -->\n<g id=\"node26\" class=\"node\">\n<title>b4</title>\n<ellipse fill=\"gray\" stroke=\"gray\" cx=\"342\" cy=\"-441\" rx=\"1.8\" ry=\"1.8\"/>\n</g>\n<!-- n5&#45;&gt;b4 -->\n<g id=\"edge21\" class=\"edge\">\n<title>n5-&gt;b4</title>\n<path fill=\"none\" stroke=\"black\" d=\"M223.91,-371.09C266.64,-378.46 313.02,-387.66 321,-394 336.95,-406.66 341.24,-434.15 341.9,-439.2\"/>\n<text text-anchor=\"middle\" x=\"364\" y=\"-397\" font-family=\"Times,serif\" font-size=\"10.00\">wasDerivedFrom</text>\n</g>\n<!-- ann5 -->\n<g id=\"node10\" class=\"node\">\n<title>ann5</title>\n<polygon fill=\"none\" stroke=\"gray\" points=\"535.5,-293 258.5,-293 258.5,-257 541.5,-257 541.5,-287 535.5,-293\"/>\n<polyline fill=\"none\" stroke=\"gray\" points=\"535.5,-293 535.5,-287 \"/>\n<polyline fill=\"none\" stroke=\"gray\" points=\"541.5,-287 535.5,-287 \"/>\n<g id=\"a_node10_12\"><a xlink:href=\"http://www.w3.org/ns/prov#type\" xlink:title=\"&lt;TABLE&gt;\">\n<text text-anchor=\"start\" x=\"269\" y=\"-279\" font-family=\"Times,serif\" font-size=\"10.00\">prov:type</text>\n</a>\n</g>\n<text text-anchor=\"start\" x=\"336\" y=\"-279\" font-family=\"Times,serif\" font-size=\"10.00\">pbm:Sample</text>\n<g id=\"a_node10_13\"><a xlink:href=\"http://cpim.org/externalId\" xlink:title=\"&lt;TABLE&gt;\">\n<text text-anchor=\"start\" x=\"269\" y=\"-266\" font-family=\"Times,serif\" font-size=\"10.00\">cpim:externalId</text>\n</a>\n</g>\n<text text-anchor=\"start\" x=\"336\" y=\"-266\" font-family=\"Times,serif\" font-size=\"10.00\">2007-PAT-34441208197199889-7780-BLK-LY</text>\n</g>\n<!-- ann5&#45;&gt;n5 -->\n<g id=\"edge5\" class=\"edge\">\n<title>ann5-&gt;n5</title>\n<path fill=\"none\" stroke=\"gray\" stroke-dasharray=\"5,2\" d=\"M346.87,-293.08C302.1,-307.47 238.64,-327.87 195.53,-341.72\"/>\n</g>\n<!-- b3 -->\n<g id=\"node24\" class=\"node\">\n<title>b3</title>\n<ellipse fill=\"gray\" stroke=\"gray\" cx=\"613\" cy=\"-524\" rx=\"1.8\" ry=\"1.8\"/>\n</g>\n<!-- n6&#45;&gt;b3 -->\n<g id=\"edge17\" class=\"edge\">\n<title>n6-&gt;b3</title>\n<path fill=\"none\" stroke=\"#fed37f\" d=\"M641.1,-459.21C633.02,-463.84 625.57,-469.67 620,-477 609.05,-491.4 611.9,-515.82 612.79,-521.7\"/>\n<text text-anchor=\"middle\" x=\"661\" y=\"-480\" font-family=\"Times,serif\" font-size=\"10.00\">wasAssociatedWith</text>\n</g>\n<!-- b7 -->\n<g id=\"node31\" class=\"node\">\n<title>b7</title>\n<ellipse fill=\"gray\" stroke=\"gray\" cx=\"718\" cy=\"-524\" rx=\"1.8\" ry=\"1.8\"/>\n</g>\n<!-- n6&#45;&gt;b7 -->\n<g id=\"edge29\" class=\"edge\">\n<title>n6-&gt;b7</title>\n<path fill=\"none\" stroke=\"#fed37f\" d=\"M702.24,-459.18C707.56,-480.73 716.18,-515.63 717.75,-521.99\"/>\n<text text-anchor=\"middle\" x=\"750\" y=\"-480\" font-family=\"Times,serif\" font-size=\"10.00\">wasAssociatedWith</text>\n</g>\n<!-- ann6 -->\n<g id=\"node12\" class=\"node\">\n<title>ann6</title>\n<polygon fill=\"none\" stroke=\"gray\" points=\"811,-376 579,-376 579,-340 817,-340 817,-370 811,-376\"/>\n<polyline fill=\"none\" stroke=\"gray\" points=\"811,-376 811,-370 \"/>\n<polyline fill=\"none\" stroke=\"gray\" points=\"817,-370 811,-370 \"/>\n<g id=\"a_node12_14\"><a xlink:href=\"http://www.w3.org/ns/prov#startTime\" xlink:title=\"&lt;TABLE&gt;\">\n<text text-anchor=\"start\" x=\"589\" y=\"-362\" font-family=\"Times,serif\" font-size=\"10.00\">prov:startTime</text>\n</a>\n</g>\n<text text-anchor=\"start\" x=\"652\" y=\"-362\" font-family=\"Times,serif\" font-size=\"10.00\">2020-11-22T08:15:01.024000+01:00</text>\n<g id=\"a_node12_15\"><a xlink:href=\"http://www.w3.org/ns/prov#type\" xlink:title=\"&lt;TABLE&gt;\">\n<text text-anchor=\"start\" x=\"589\" y=\"-349\" font-family=\"Times,serif\" font-size=\"10.00\">prov:type</text>\n</a>\n</g>\n<text text-anchor=\"start\" x=\"652\" y=\"-349\" font-family=\"Times,serif\" font-size=\"10.00\">pbm:Processing</text>\n</g>\n<!-- ann6&#45;&gt;n6 -->\n<g id=\"edge6\" class=\"edge\">\n<title>ann6-&gt;n6</title>\n<path fill=\"none\" stroke=\"gray\" stroke-dasharray=\"5,2\" d=\"M698,-376.18C698,-389.92 698,-409.11 698,-422.85\"/>\n</g>\n<!-- n7 -->\n<g id=\"node13\" class=\"node\">\n<title>n7</title>\n<g id=\"a_node13\"><a xlink:href=\"http://demo-biobank.org/sample_215784543\" xlink:title=\"biobank:sample_215784543\">\n<ellipse fill=\"#fffc87\" stroke=\"#808080\" cx=\"158\" cy=\"-524\" rx=\"110.48\" ry=\"18\"/>\n<text text-anchor=\"middle\" x=\"158\" y=\"-520.3\" font-family=\"Times,serif\" font-size=\"14.00\">biobank:sample_215784543</text>\n</a>\n</g>\n</g>\n<!-- b6 -->\n<g id=\"node30\" class=\"node\">\n<title>b6</title>\n<ellipse fill=\"gray\" stroke=\"gray\" cx=\"150\" cy=\"-607\" rx=\"1.8\" ry=\"1.8\"/>\n</g>\n<!-- n7&#45;&gt;b6 -->\n<g id=\"edge27\" class=\"edge\">\n<title>n7-&gt;b6</title>\n<path fill=\"none\" stroke=\"black\" d=\"M156.3,-542.18C154.18,-563.73 150.73,-598.63 150.1,-604.99\"/>\n<text text-anchor=\"middle\" x=\"189\" y=\"-563\" font-family=\"Times,serif\" font-size=\"10.00\">wasDerivedFrom</text>\n</g>\n<!-- ann7 -->\n<g id=\"node14\" class=\"node\">\n<title>ann7</title>\n<polygon fill=\"none\" stroke=\"gray\" points=\"293.5,-459 16.5,-459 16.5,-423 299.5,-423 299.5,-453 293.5,-459\"/>\n<polyline fill=\"none\" stroke=\"gray\" points=\"293.5,-459 293.5,-453 \"/>\n<polyline fill=\"none\" stroke=\"gray\" points=\"299.5,-453 293.5,-453 \"/>\n<g id=\"a_node14_16\"><a xlink:href=\"http://www.w3.org/ns/prov#type\" xlink:title=\"&lt;TABLE&gt;\">\n<text text-anchor=\"start\" x=\"27\" y=\"-445\" font-family=\"Times,serif\" font-size=\"10.00\">prov:type</text>\n</a>\n</g>\n<text text-anchor=\"start\" x=\"94\" y=\"-445\" font-family=\"Times,serif\" font-size=\"10.00\">pbm:Sample</text>\n<g id=\"a_node14_17\"><a xlink:href=\"http://cpim.org/externalId\" xlink:title=\"&lt;TABLE&gt;\">\n<text text-anchor=\"start\" x=\"27\" y=\"-432\" font-family=\"Times,serif\" font-size=\"10.00\">cpim:externalId</text>\n</a>\n</g>\n<text text-anchor=\"start\" x=\"94\" y=\"-432\" font-family=\"Times,serif\" font-size=\"10.00\">2007-PAT-34441208197199889-7780-BLK-LY</text>\n</g>\n<!-- ann7&#45;&gt;n7 -->\n<g id=\"edge7\" class=\"edge\">\n<title>ann7-&gt;n7</title>\n<path fill=\"none\" stroke=\"gray\" stroke-dasharray=\"5,2\" d=\"M158,-459.18C158,-472.92 158,-492.11 158,-505.85\"/>\n</g>\n<!-- n8 -->\n<g id=\"node15\" class=\"node\">\n<title>n8</title>\n<g id=\"a_node15\"><a xlink:href=\"http://demo-biobank.org/act_15754\" xlink:title=\"biobank:act_15754\">\n<polygon fill=\"#9fb1fc\" stroke=\"#0000ff\" points=\"865,-203.5 745,-203.5 745,-167.5 865,-167.5 865,-203.5\"/>\n<text text-anchor=\"middle\" x=\"805\" y=\"-181.8\" font-family=\"Times,serif\" font-size=\"14.00\">biobank:act_15754</text>\n</a>\n</g>\n</g>\n<!-- b5 -->\n<g id=\"node27\" class=\"node\">\n<title>b5</title>\n<ellipse fill=\"gray\" stroke=\"gray\" cx=\"633\" cy=\"-275\" rx=\"1.8\" ry=\"1.8\"/>\n</g>\n<!-- n8&#45;&gt;b5 -->\n<g id=\"edge23\" class=\"edge\">\n<title>n8-&gt;b5</title>\n<path fill=\"none\" stroke=\"#fed37f\" d=\"M758.01,-203.61C717.24,-219.07 662.02,-241.68 644,-257 638.43,-261.74 634.65,-270 633.43,-272.93\"/>\n<text text-anchor=\"middle\" x=\"737\" y=\"-231\" font-family=\"Times,serif\" font-size=\"10.00\">wasAssociatedWith</text>\n</g>\n<!-- ann8 -->\n<g id=\"node16\" class=\"node\">\n<title>ann8</title>\n<polygon fill=\"none\" stroke=\"gray\" points=\"999,-94.5 767,-94.5 767,-58.5 1005,-58.5 1005,-88.5 999,-94.5\"/>\n<polyline fill=\"none\" stroke=\"gray\" points=\"999,-94.5 999,-88.5 \"/>\n<polyline fill=\"none\" stroke=\"gray\" points=\"1005,-88.5 999,-88.5 \"/>\n<g id=\"a_node16_18\"><a xlink:href=\"http://www.w3.org/ns/prov#startTime\" xlink:title=\"&lt;TABLE&gt;\">\n<text text-anchor=\"start\" x=\"777\" y=\"-80.5\" font-family=\"Times,serif\" font-size=\"10.00\">prov:startTime</text>\n</a>\n</g>\n<text text-anchor=\"start\" x=\"840\" y=\"-80.5\" font-family=\"Times,serif\" font-size=\"10.00\">2020-11-21T12:00:01.024000+01:00</text>\n<g id=\"a_node16_19\"><a xlink:href=\"http://www.w3.org/ns/prov#type\" xlink:title=\"&lt;TABLE&gt;\">\n<text text-anchor=\"start\" x=\"777\" y=\"-67.5\" font-family=\"Times,serif\" font-size=\"10.00\">prov:type</text>\n</a>\n</g>\n<text text-anchor=\"start\" x=\"840\" y=\"-67.5\" font-family=\"Times,serif\" font-size=\"10.00\">pbm:Receiving</text>\n</g>\n<!-- ann8&#45;&gt;n8 -->\n<g id=\"edge8\" class=\"edge\">\n<title>ann8-&gt;n8</title>\n<path fill=\"none\" stroke=\"gray\" stroke-dasharray=\"5,2\" d=\"M872.99,-94.69C857.87,-114.66 833.08,-147.4 817.98,-167.35\"/>\n</g>\n<!-- n9 -->\n<g id=\"node17\" class=\"node\">\n<title>n9</title>\n<g id=\"a_node17\"><a xlink:href=\"http://demo-biobank.org/sample_215784542\" xlink:title=\"biobank:sample_215784542\">\n<ellipse fill=\"#fffc87\" stroke=\"#808080\" cx=\"230\" cy=\"-680\" rx=\"110.48\" ry=\"18\"/>\n<text text-anchor=\"middle\" x=\"230\" y=\"-676.3\" font-family=\"Times,serif\" font-size=\"14.00\">biobank:sample_215784542</text>\n</a>\n</g>\n</g>\n<!-- ann9 -->\n<g id=\"node18\" class=\"node\">\n<title>ann9</title>\n<polygon fill=\"none\" stroke=\"gray\" points=\"446.5,-625 169.5,-625 169.5,-589 452.5,-589 452.5,-619 446.5,-625\"/>\n<polyline fill=\"none\" stroke=\"gray\" points=\"446.5,-625 446.5,-619 \"/>\n<polyline fill=\"none\" stroke=\"gray\" points=\"452.5,-619 446.5,-619 \"/>\n<g id=\"a_node18_20\"><a xlink:href=\"http://www.w3.org/ns/prov#type\" xlink:title=\"&lt;TABLE&gt;\">\n<text text-anchor=\"start\" x=\"180\" y=\"-611\" font-family=\"Times,serif\" font-size=\"10.00\">prov:type</text>\n</a>\n</g>\n<text text-anchor=\"start\" x=\"247\" y=\"-611\" font-family=\"Times,serif\" font-size=\"10.00\">pbm:Sample</text>\n<g id=\"a_node18_21\"><a xlink:href=\"http://cpim.org/externalId\" xlink:title=\"&lt;TABLE&gt;\">\n<text text-anchor=\"start\" x=\"180\" y=\"-598\" font-family=\"Times,serif\" font-size=\"10.00\">cpim:externalId</text>\n</a>\n</g>\n<text text-anchor=\"start\" x=\"247\" y=\"-598\" font-family=\"Times,serif\" font-size=\"10.00\">2007-PAT-34441208197199889-7780-BLK-LY</text>\n</g>\n<!-- ann9&#45;&gt;n9 -->\n<g id=\"edge9\" class=\"edge\">\n<title>ann9-&gt;n9</title>\n<path fill=\"none\" stroke=\"gray\" stroke-dasharray=\"5,2\" d=\"M291.39,-625.19C278.56,-636.43 261.88,-651.05 249.15,-662.22\"/>\n</g>\n<!-- n10 -->\n<g id=\"node19\" class=\"node\">\n<title>n10</title>\n<g id=\"a_node19\"><a xlink:href=\"http://demo-biobank.org/act_57582\" xlink:title=\"biobank:act_57582\">\n<polygon fill=\"#9fb1fc\" stroke=\"#0000ff\" points=\"136,-203.5 16,-203.5 16,-167.5 136,-167.5 136,-203.5\"/>\n<text text-anchor=\"middle\" x=\"76\" y=\"-181.8\" font-family=\"Times,serif\" font-size=\"14.00\">biobank:act_57582</text>\n</a>\n</g>\n</g>\n<!-- ann10 -->\n<g id=\"node20\" class=\"node\">\n<title>ann10</title>\n<polygon fill=\"none\" stroke=\"gray\" points=\"248.5,-101 15.5,-101 15.5,-52 254.5,-52 254.5,-95 248.5,-101\"/>\n<polyline fill=\"none\" stroke=\"gray\" points=\"248.5,-101 248.5,-95 \"/>\n<polyline fill=\"none\" stroke=\"gray\" points=\"254.5,-95 248.5,-95 \"/>\n<g id=\"a_node20_22\"><a xlink:href=\"http://www.w3.org/ns/prov#startTime\" xlink:title=\"&lt;TABLE&gt;\">\n<text text-anchor=\"start\" x=\"26\" y=\"-86.5\" font-family=\"Times,serif\" font-size=\"10.00\">prov:startTime</text>\n</a>\n</g>\n<text text-anchor=\"start\" x=\"89\" y=\"-86.5\" font-family=\"Times,serif\" font-size=\"10.00\">1988-05-04T08:00:00.024000+01:00</text>\n<g id=\"a_node20_23\"><a xlink:href=\"http://www.w3.org/ns/prov#endTime\" xlink:title=\"&lt;TABLE&gt;\">\n<text text-anchor=\"start\" x=\"26\" y=\"-73.5\" font-family=\"Times,serif\" font-size=\"10.00\">prov:endTime</text>\n</a>\n</g>\n<text text-anchor=\"start\" x=\"89\" y=\"-73.5\" font-family=\"Times,serif\" font-size=\"10.00\">2020-11-21T12:00:01.024000+01:00</text>\n<g id=\"a_node20_24\"><a xlink:href=\"http://www.w3.org/ns/prov#type\" xlink:title=\"&lt;TABLE&gt;\">\n<text text-anchor=\"start\" x=\"26\" y=\"-60.5\" font-family=\"Times,serif\" font-size=\"10.00\">prov:type</text>\n</a>\n</g>\n<text text-anchor=\"start\" x=\"89\" y=\"-60.5\" font-family=\"Times,serif\" font-size=\"10.00\">pbm:Storing</text>\n</g>\n<!-- ann10&#45;&gt;n10 -->\n<g id=\"edge10\" class=\"edge\">\n<title>ann10-&gt;n10</title>\n<path fill=\"none\" stroke=\"gray\" stroke-dasharray=\"5,2\" d=\"M121.91,-101.25C110.84,-121.32 95.25,-149.58 85.39,-167.47\"/>\n</g>\n<!-- b1&#45;&gt;n1 -->\n<g id=\"edge12\" class=\"edge\">\n<title>b1-&gt;n1</title>\n<path fill=\"none\" stroke=\"#fed37f\" d=\"M18.26,-359.81C19.19,-362.59 22.65,-371.83 29,-376 134.45,-445.3 204.45,-352.35 309,-423 324.54,-433.5 317.85,-445.63 331,-459 379.34,-508.13 400.95,-510 462,-542 496.13,-559.89 536.38,-576.76 566.74,-588.68\"/>\n<polygon fill=\"#fed37f\" stroke=\"#fed37f\" points=\"565.64,-592 576.23,-592.37 568.18,-585.48 565.64,-592\"/>\n</g>\n<!-- ann11 -->\n<g id=\"node22\" class=\"node\">\n<title>ann11</title>\n<polygon fill=\"none\" stroke=\"gray\" points=\"96,-293 16,-293 16,-257 102,-257 102,-287 96,-293\"/>\n<polyline fill=\"none\" stroke=\"gray\" points=\"96,-293 96,-287 \"/>\n<polyline fill=\"none\" stroke=\"gray\" points=\"102,-287 96,-287 \"/>\n<g id=\"a_node22_25\"><a xlink:href=\"http://www.w3.org/ns/prov#role\" xlink:title=\"&lt;TABLE&gt;\">\n<text text-anchor=\"start\" x=\"26\" y=\"-272\" font-family=\"Times,serif\" font-size=\"10.00\">prov:role</text>\n</a>\n</g>\n<text text-anchor=\"start\" x=\"66\" y=\"-272\" font-family=\"Times,serif\" font-size=\"10.00\">sort in</text>\n</g>\n<!-- ann11&#45;&gt;b1 -->\n<g id=\"edge13\" class=\"edge\">\n<title>ann11-&gt;b1</title>\n<path fill=\"none\" stroke=\"gray\" stroke-dasharray=\"5,2\" d=\"M50.3,-293.18C39.4,-314.73 21.73,-349.63 18.51,-355.99\"/>\n</g>\n<!-- b2&#45;&gt;n5 -->\n<g id=\"edge16\" class=\"edge\">\n<title>b2-&gt;n5</title>\n<path fill=\"none\" stroke=\"black\" d=\"M560.79,-276.81C560.03,-279.6 557.11,-288.83 551,-293 544.51,-297.42 353.64,-326.43 236.94,-343.84\"/>\n<polygon fill=\"black\" stroke=\"black\" points=\"236.31,-340.39 226.93,-345.33 237.34,-347.32 236.31,-340.39\"/>\n</g>\n<!-- b3&#45;&gt;n1 -->\n<g id=\"edge18\" class=\"edge\">\n<title>b3-&gt;n1</title>\n<path fill=\"none\" stroke=\"#fed37f\" d=\"M613,-525.91C613,-531.41 613,-560.72 613,-582.3\"/>\n<polygon fill=\"#fed37f\" stroke=\"#fed37f\" points=\"609.5,-582.42 613,-592.42 616.5,-582.42 609.5,-582.42\"/>\n</g>\n<!-- ann12 -->\n<g id=\"node25\" class=\"node\">\n<title>ann12</title>\n<polygon fill=\"none\" stroke=\"gray\" points=\"614,-459 534,-459 534,-423 620,-423 620,-453 614,-459\"/>\n<polyline fill=\"none\" stroke=\"gray\" points=\"614,-459 614,-453 \"/>\n<polyline fill=\"none\" stroke=\"gray\" points=\"620,-453 614,-453 \"/>\n<g id=\"a_node25_26\"><a xlink:href=\"http://www.w3.org/ns/prov#role\" xlink:title=\"&lt;TABLE&gt;\">\n<text text-anchor=\"start\" x=\"544\" y=\"-438\" font-family=\"Times,serif\" font-size=\"10.00\">prov:role</text>\n</a>\n</g>\n<text text-anchor=\"start\" x=\"584\" y=\"-438\" font-family=\"Times,serif\" font-size=\"10.00\">sort in</text>\n</g>\n<!-- ann12&#45;&gt;b3 -->\n<g id=\"edge19\" class=\"edge\">\n<title>ann12-&gt;b3</title>\n<path fill=\"none\" stroke=\"gray\" stroke-dasharray=\"5,2\" d=\"M581.02,-459C583.39,-467.85 586.77,-478.74 591,-488 592.73,-491.79 609.39,-517.46 612.5,-522.23\"/>\n</g>\n<!-- b4&#45;&gt;n7 -->\n<g id=\"edge22\" class=\"edge\">\n<title>b4-&gt;n7</title>\n<path fill=\"none\" stroke=\"black\" d=\"M340.99,-442.56C336.98,-444.75 321.84,-452.98 309,-459 275.38,-474.76 236.84,-491.06 207.11,-503.28\"/>\n<polygon fill=\"black\" stroke=\"black\" points=\"205.71,-500.06 197.78,-507.09 208.36,-506.54 205.71,-500.06\"/>\n</g>\n<!-- b5&#45;&gt;n2 -->\n<g id=\"edge24\" class=\"edge\">\n<title>b5-&gt;n2</title>\n<path fill=\"none\" stroke=\"#fed37f\" d=\"M631.63,-276.52C619.09,-281.27 523.09,-317.6 464.45,-339.8\"/>\n<polygon fill=\"#fed37f\" stroke=\"#fed37f\" points=\"463.14,-336.55 455.03,-343.36 465.62,-343.1 463.14,-336.55\"/>\n</g>\n<!-- ann13 -->\n<g id=\"node28\" class=\"node\">\n<title>ann13</title>\n<polygon fill=\"none\" stroke=\"gray\" points=\"721.5,-203.5 648.5,-203.5 648.5,-167.5 727.5,-167.5 727.5,-197.5 721.5,-203.5\"/>\n<polyline fill=\"none\" stroke=\"gray\" points=\"721.5,-203.5 721.5,-197.5 \"/>\n<polyline fill=\"none\" stroke=\"gray\" points=\"727.5,-197.5 721.5,-197.5 \"/>\n<g id=\"a_node28_27\"><a xlink:href=\"http://www.w3.org/ns/prov#role\" xlink:title=\"&lt;TABLE&gt;\">\n<text text-anchor=\"start\" x=\"659\" y=\"-182.5\" font-family=\"Times,serif\" font-size=\"10.00\">prov:role</text>\n</a>\n</g>\n<text text-anchor=\"start\" x=\"699\" y=\"-182.5\" font-family=\"Times,serif\" font-size=\"10.00\">pick</text>\n</g>\n<!-- ann13&#45;&gt;b5 -->\n<g id=\"edge25\" class=\"edge\">\n<title>ann13-&gt;b5</title>\n<path fill=\"none\" stroke=\"gray\" stroke-dasharray=\"5,2\" d=\"M677.13,-203.79C662.36,-227.3 637.32,-267.13 633.5,-273.21\"/>\n</g>\n<!-- n11 -->\n<g id=\"node29\" class=\"node\">\n<title>n11</title>\n<g id=\"a_node29\"><a xlink:href=\"http://demo-biobank.org/sample_2157845433\" xlink:title=\"biobank:sample_2157845433\">\n<polygon fill=\"lightgray\" stroke=\"dimgray\" points=\"748.5,-94.5 571.5,-94.5 571.5,-58.5 748.5,-58.5 748.5,-94.5\"/>\n<text text-anchor=\"middle\" x=\"660\" y=\"-72.8\" font-family=\"Times,serif\" font-size=\"14.00\">biobank:sample_2157845433</text>\n</a>\n</g>\n</g>\n<!-- n11&#45;&gt;n8 -->\n<g id=\"edge26\" class=\"edge\">\n<title>n11-&gt;n8</title>\n<path fill=\"none\" stroke=\"#8b0000\" d=\"M683.3,-94.69C707.71,-112.71 746.23,-141.13 773.38,-161.16\"/>\n<polygon fill=\"#8b0000\" stroke=\"#8b0000\" points=\"771.64,-164.23 781.76,-167.35 775.79,-158.6 771.64,-164.23\"/>\n<text text-anchor=\"middle\" x=\"754.5\" y=\"-135\" font-family=\"Times,serif\" font-size=\"10.00\" fill=\"red\">used</text>\n</g>\n<!-- b6&#45;&gt;n9 -->\n<g id=\"edge28\" class=\"edge\">\n<title>b6-&gt;n9</title>\n<path fill=\"none\" stroke=\"black\" d=\"M150.49,-609C151.89,-611.75 156.07,-619.6 161,-625 171.41,-636.38 184.39,-647.22 196.28,-656.16\"/>\n<polygon fill=\"black\" stroke=\"black\" points=\"194.56,-659.23 204.7,-662.31 198.69,-653.58 194.56,-659.23\"/>\n</g>\n<!-- b7&#45;&gt;n1 -->\n<g id=\"edge30\" class=\"edge\">\n<title>b7-&gt;n1</title>\n<path fill=\"none\" stroke=\"#fed37f\" d=\"M716.82,-525.91C709.27,-531.74 667.08,-564.28 638.86,-586.05\"/>\n<polygon fill=\"#fed37f\" stroke=\"#fed37f\" points=\"636.38,-583.54 630.6,-592.42 640.66,-589.08 636.38,-583.54\"/>\n</g>\n<!-- ann14 -->\n<g id=\"node32\" class=\"node\">\n<title>ann14</title>\n<polygon fill=\"none\" stroke=\"gray\" points=\"856,-459 776,-459 776,-423 862,-423 862,-453 856,-459\"/>\n<polyline fill=\"none\" stroke=\"gray\" points=\"856,-459 856,-453 \"/>\n<polyline fill=\"none\" stroke=\"gray\" points=\"862,-453 856,-453 \"/>\n<g id=\"a_node32_28\"><a xlink:href=\"http://www.w3.org/ns/prov#role\" xlink:title=\"&lt;TABLE&gt;\">\n<text text-anchor=\"start\" x=\"786\" y=\"-438\" font-family=\"Times,serif\" font-size=\"10.00\">prov:role</text>\n</a>\n</g>\n<text text-anchor=\"start\" x=\"826\" y=\"-438\" font-family=\"Times,serif\" font-size=\"10.00\">sort in</text>\n</g>\n<!-- ann14&#45;&gt;b7 -->\n<g id=\"edge31\" class=\"edge\">\n<title>ann14-&gt;b7</title>\n<path fill=\"none\" stroke=\"gray\" stroke-dasharray=\"5,2\" d=\"M813.28,-459.05C809.37,-468.57 803.37,-480.07 795,-488 770.69,-511.02 728.61,-520.8 719.69,-522.66\"/>\n</g>\n<!-- n12 -->\n<g id=\"node33\" class=\"node\">\n<title>n12</title>\n<g id=\"a_node33\"><a xlink:href=\"http://demo-biobank.org/SLIDE_215784542\" xlink:title=\"biobank:SLIDE_215784542\">\n<polygon fill=\"lightgray\" stroke=\"dimgray\" points=\"1005,-376 835,-376 835,-340 1005,-340 1005,-376\"/>\n<text text-anchor=\"middle\" x=\"920\" y=\"-354.3\" font-family=\"Times,serif\" font-size=\"14.00\">biobank:SLIDE_215784542</text>\n</a>\n</g>\n</g>\n<!-- n12&#45;&gt;n6 -->\n<g id=\"edge32\" class=\"edge\">\n<title>n12-&gt;n6</title>\n<path fill=\"none\" stroke=\"#8b0000\" d=\"M873.19,-376.08C838.51,-388.73 791.09,-406.04 754.33,-419.45\"/>\n<polygon fill=\"#8b0000\" stroke=\"#8b0000\" points=\"752.94,-416.23 744.75,-422.94 755.34,-422.8 752.94,-416.23\"/>\n<text text-anchor=\"middle\" x=\"831.5\" y=\"-397\" font-family=\"Times,serif\" font-size=\"10.00\" fill=\"red\">used</text>\n</g>\n</g>\n</svg>"
          },
          "metadata": {},
          "execution_count": 11
        }
      ]
    },
    {
      "cell_type": "code",
      "source": [
        "provn = document.serialize(format='provn')\n",
        "print(provn)"
      ],
      "metadata": {
        "colab": {
          "base_uri": "https://localhost:8080/"
        },
        "id": "pWN10pSSZWtF",
        "outputId": "d0177bd2-5288-4175-8a68-7cf97d0df4a9"
      },
      "execution_count": 4,
      "outputs": [
        {
          "output_type": "stream",
          "name": "stdout",
          "text": [
            "document\n",
            "  default <https://github.com/BBMRI-ERIC/ISO23494-PROV-demonstrator/tree/main/https://github.com/BBMRI-ERIC/ISO23494-PROV-demonstrator/tree/main/Part%203%20-%20Provenance%20of%20Biological%20Specimen/examples-2023/biobank_2020-11-21_5784167>\n",
            "  prefix cpim <http://cpim.org/>\n",
            "  prefix biobank <http://demo-biobank.org/>\n",
            "  prefix hospital <http://demo-hospital.org/>\n",
            "  \n",
            "  bundle biobank:Biobank_biobank20201121_5784167\n",
            "    agent(biobank:WORKER_7275457, [prov:type=\"prov:Person\", name=\"Anna Aligator\"])\n",
            "    agent(biobank:WORKER_7275987, [prov:type=\"prov:Person\", name=\"Tom Turkey\"])\n",
            "    entity(biobank:sample_215784545, [prov:type=\"Sample\", cpim:externalId=\"demo-bb-study2023-08:sample007\"])\n",
            "    activity(biobank:act_57585, 2020-11-23T10:22:01.024000+01:00, 2020-11-21T08:15:00.024000+01:00, [prov:type=\"Distribution\"])\n",
            "    wasAssociatedWith(biobank:act_57585, biobank:WORKER_7275457, -, [prov:role=\"sort in\"])\n",
            "    used(biobank:sample_215784545, biobank:act_57585, -)\n",
            "    entity(biobank:sample_215784544, [prov:type=\"Sample\", cpim:externalId=\"2007-PAT-34441208197199889-7780-BLK-LY\"])\n",
            "    wasDerivedFrom(biobank:sample_215784545, biobank:sample_215784544, -, -, -)\n",
            "    activity(biobank:act_57584, 2020-11-22T08:15:01.024000+01:00, -, [prov:type=\"Processing\"])\n",
            "    wasAssociatedWith(biobank:act_57584, biobank:WORKER_7275457, -, [prov:role=\"sort in\"])\n",
            "    used(biobank:sample_215784544, biobank:act_57584, -)\n",
            "    entity(biobank:sample_215784543, [prov:type=\"Sample\", cpim:externalId=\"2007-PAT-34441208197199889-7780-BLK-LY\"])\n",
            "    wasDerivedFrom(biobank:sample_215784544, biobank:sample_215784543, -, -, -)\n",
            "    activity(biobank:act_15754, 2020-11-21T12:00:01.024000+01:00, -, [prov:type=\"Receiving\"])\n",
            "    wasAssociatedWith(biobank:act_15754, biobank:WORKER_7275987, -, [prov:role=\"pick\"])\n",
            "    used(biobank:sample_2157845433, biobank:act_15754, -)\n",
            "    entity(biobank:sample_215784542, [prov:type=\"Sample\", cpim:externalId=\"2007-PAT-34441208197199889-7780-BLK-LY\"])\n",
            "    wasDerivedFrom(biobank:sample_215784543, biobank:sample_215784542, -, -, -)\n",
            "    activity(biobank:act_57582, 1988-05-04T08:00:00.024000+01:00, 2020-11-21T12:00:01.024000+01:00, [prov:type=\"Storing\"])\n",
            "    wasAssociatedWith(biobank:act_57584, biobank:WORKER_7275457, -, [prov:role=\"sort in\"])\n",
            "    used(biobank:SLIDE_215784542, biobank:act_57584, -)\n",
            "  endBundle\n",
            "endDocument\n"
          ]
        }
      ]
    }
  ]
}
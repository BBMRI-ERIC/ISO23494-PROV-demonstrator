{
  "nbformat": 4,
  "nbformat_minor": 0,
  "metadata": {
    "colab": {
      "name": "sampleDeliveryProv.ipynb",
      "provenance": [],
      "include_colab_link": true
    },
    "kernelspec": {
      "name": "python3",
      "display_name": "Python 3"
    }
  },
  "cells": [
    {
      "cell_type": "markdown",
      "metadata": {
        "id": "view-in-github",
        "colab_type": "text"
      },
      "source": [
        "<a href=\"https://colab.research.google.com/github/BBMRI-ERIC/ISO23494-PROV-demonstrator/blob/main/Part%203%20-%20Provenance%20of%20Biological%20Specimen/examples-2023/fullProvChainBiobanking.ipynb\" target=\"_parent\"><img src=\"https://colab.research.google.com/assets/colab-badge.svg\" alt=\"Open In Colab\"/></a>"
      ]
    },
    {
      "cell_type": "code",
      "metadata": {
        "id": "U0_gVaW2WTyA"
      },
      "source": [
        "#\n",
        "# INSTALL PACKAGES\n",
        "#\n",
        "!pip install prov"
      ],
      "execution_count": null,
      "outputs": []
    },
    {
      "cell_type": "code",
      "metadata": {
        "colab": {
          "base_uri": "https://localhost:8080/"
        },
        "id": "cnr5xR9JWU1N",
        "outputId": "3ecb23f4-bd02-42f3-9312-4a2d4cc850a3"
      },
      "source": [
        "import prov.model as prov\n",
        "import json\n",
        "\n",
        "from prov.dot import prov_to_dot\n",
        "from IPython.display import SVG\n",
        "\n",
        "document = prov.ProvDocument()\n",
        "\n",
        "document.set_default_namespace('https://github.com/BBMRI-ERIC/ISO23494-PROV-demonstrator/tree/main/https://github.com/BBMRI-ERIC/ISO23494-PROV-demonstrator/tree/main/Part%203%20-%20Provenance%20of%20Biological%20Specimen/examples-2023/Biobank')\n",
        "document.add_namespace('cpim', 'http://cpim.org/')\n",
        "document.add_namespace('biobank', 'http://demo-biobank.org/')\n",
        "document.add_namespace('cpm', 'http://part2-common-provenance-model.ISO-23494.org/')\n",
        "document.add_namespace('pbm', 'http://part3-provenance-of-biological-material.ISO-23494.org/')\n",
        "document.add_namespace('hospital', 'http://demo-hospital.org/')\n",
        "\n",
        "######################Biobank_delivery20201121_5784167######################\n",
        "biobank20201121_5784167 = document.bundle('biobank:Biobank_biobank20201121_5784167')\n",
        "document.set_default_namespace('https://github.com/BBMRI-ERIC/ISO23494-PROV-demonstrator/tree/main/https://github.com/BBMRI-ERIC/ISO23494-PROV-demonstrator/tree/main/Part%203%20-%20Provenance%20of%20Biological%20Specimen/examples-2023/biobank_2020-11-21_5784167')\n",
        "\n",
        "###################### Actors in Biobank ######################\n",
        "biobank20201121_5784167.agent('biobank:WORKER_7275457', {prov.PROV_TYPE: 'prov:Person', 'name': \"Anna Aligator\"})\n",
        "biobank20201121_5784167.agent('biobank:WORKER_7275987', {prov.PROV_TYPE: 'prov:Person', 'name': \"Tom Turkey\"})\n",
        "\n",
        "################### Sample, delivered to researcher ######################\n",
        "Sample_215784545 = biobank20201121_5784167.entity('biobank:sample_215784545', ((prov.PROV_TYPE, \"pbm:Sample\"),('cpim:externalId', \"demo-bb-study2023-08:sample007\")))\n",
        "biobank20201121_5784167.activity('biobank:act_57585', '2020-11-23T10:22:01.024000+01:00','2020-11-21T08:15:00.024000+01:00', {prov.PROV_TYPE: \"pbm:Distribution\"})\n",
        "biobank20201121_5784167.wasAssociatedWith('biobank:act_57585', 'biobank:WORKER_7275457',None,None, {prov.PROV_ROLE: \"sort in\"})\n",
        "biobank20201121_5784167.used('biobank:sample_215784545','biobank:act_57585' )\n",
        "\n",
        "################### Same sample with the barcode used in the Biobank  ######################\n",
        "Sample_215784544 = biobank20201121_5784167.entity('biobank:sample_215784544', ((prov.PROV_TYPE, \"pbm:Sample\"),('cpim:externalId', \"2007-PAT-34441208197199889-7780-BLK-LY\")))\n",
        "biobank20201121_5784167.wasDerivedFrom('biobank:sample_215784545' ,'biobank:sample_215784544')\n",
        "\n",
        "#Relabeling\n",
        "biobank20201121_5784167.activity('biobank:act_57584', '2020-11-22T08:15:01.024000+01:00', None, {prov.PROV_TYPE: \"pbm:Processing\"})\n",
        "biobank20201121_5784167.wasAssociatedWith('biobank:act_57584', 'biobank:WORKER_7275457',None,None, {prov.PROV_ROLE: \"sort in\"})\n",
        "biobank20201121_5784167.used('biobank:sample_215784544','biobank:act_57584' )\n",
        "\n",
        "#Receiving from Biobank\n",
        "Sample_215784543 = biobank20201121_5784167.entity('biobank:sample_215784543', ((prov.PROV_TYPE, \"pbm:Sample\"),('cpim:externalId', \"2007-PAT-34441208197199889-7780-BLK-LY\")))\n",
        "biobank20201121_5784167.wasDerivedFrom('biobank:sample_215784544' ,'biobank:sample_215784543')\n",
        "biobank20201121_5784167.activity('biobank:act_15754', '2020-11-21T12:00:01.024000+01:00',None, {prov.PROV_TYPE: \"pbm:Receiving\"})\n",
        "biobank20201121_5784167.wasAssociatedWith('biobank:act_15754', 'biobank:WORKER_7275987',None,None, {prov.PROV_ROLE: \"pick\"})\n",
        "biobank20201121_5784167.used('biobank:sample_2157845433','biobank:act_15754' )\n",
        "\n",
        "#Storing in Biobank\n",
        "Sample_215784542 = biobank20201121_5784167.entity('biobank:sample_215784542', ((prov.PROV_TYPE, \"pbm:Sample\"),('cpim:externalId', \"2007-PAT-34441208197199889-7780-BLK-LY\")))\n",
        "biobank20201121_5784167.wasDerivedFrom('biobank:sample_215784543' ,'biobank:sample_215784542')\n",
        "biobank20201121_5784167.activity('biobank:act_57582', '1988-05-04T08:00:00.024000+01:00','2020-11-21T12:00:01.024000+01:00', {prov.PROV_TYPE: \"pbm:Storing\"})\n",
        "biobank20201121_5784167.wasAssociatedWith('biobank:act_57584', 'biobank:WORKER_7275457',None,None, {prov.PROV_ROLE: \"sort in\"})\n",
        "biobank20201121_5784167.used('biobank:SLIDE_215784542','biobank:act_57584' )\n",
        "\n",
        "\n",
        "document.get_provn() # =>\n",
        "\n",
        "provn = document.serialize(format='provn')\n",
        "print(provn)\n"
      ],
      "execution_count": 6,
      "outputs": [
        {
          "output_type": "stream",
          "name": "stdout",
          "text": [
            "document\n",
            "  default <https://github.com/BBMRI-ERIC/ISO23494-PROV-demonstrator/tree/main/https://github.com/BBMRI-ERIC/ISO23494-PROV-demonstrator/tree/main/Part%203%20-%20Provenance%20of%20Biological%20Specimen/examples-2023/biobank_2020-11-21_5784167>\n",
            "  prefix cpim <http://cpim.org/>\n",
            "  prefix biobank <http://demo-biobank.org/>\n",
            "  prefix cpm <http://part2-common-provenance-model.ISO-23494.org/>\n",
            "  prefix pbm <http://part3-provenance-of-biological-material.ISO-23494.org/>\n",
            "  prefix hospital <http://demo-hospital.org/>\n",
            "  \n",
            "  bundle biobank:Biobank_biobank20201121_5784167\n",
            "    agent(biobank:WORKER_7275457, [prov:type=\"prov:Person\", name=\"Anna Aligator\"])\n",
            "    agent(biobank:WORKER_7275987, [prov:type=\"prov:Person\", name=\"Tom Turkey\"])\n",
            "    entity(biobank:sample_215784545, [prov:type=\"pbm:Sample\", cpim:externalId=\"demo-bb-study2023-08:sample007\"])\n",
            "    activity(biobank:act_57585, 2020-11-23T10:22:01.024000+01:00, 2020-11-21T08:15:00.024000+01:00, [prov:type=\"pbm:Distribution\"])\n",
            "    wasAssociatedWith(biobank:act_57585, biobank:WORKER_7275457, -, [prov:role=\"sort in\"])\n",
            "    used(biobank:sample_215784545, biobank:act_57585, -)\n",
            "    entity(biobank:sample_215784544, [prov:type=\"pbm:Sample\", cpim:externalId=\"2007-PAT-34441208197199889-7780-BLK-LY\"])\n",
            "    wasDerivedFrom(biobank:sample_215784545, biobank:sample_215784544, -, -, -)\n",
            "    activity(biobank:act_57584, 2020-11-22T08:15:01.024000+01:00, -, [prov:type=\"pbm:Processing\"])\n",
            "    wasAssociatedWith(biobank:act_57584, biobank:WORKER_7275457, -, [prov:role=\"sort in\"])\n",
            "    used(biobank:sample_215784544, biobank:act_57584, -)\n",
            "    entity(biobank:sample_215784543, [prov:type=\"pbm:Sample\", cpim:externalId=\"2007-PAT-34441208197199889-7780-BLK-LY\"])\n",
            "    wasDerivedFrom(biobank:sample_215784544, biobank:sample_215784543, -, -, -)\n",
            "    activity(biobank:act_15754, 2020-11-21T12:00:01.024000+01:00, -, [prov:type=\"pbm:Receiving\"])\n",
            "    wasAssociatedWith(biobank:act_15754, biobank:WORKER_7275987, -, [prov:role=\"pick\"])\n",
            "    used(biobank:sample_2157845433, biobank:act_15754, -)\n",
            "    entity(biobank:sample_215784542, [prov:type=\"pbm:Sample\", cpim:externalId=\"2007-PAT-34441208197199889-7780-BLK-LY\"])\n",
            "    wasDerivedFrom(biobank:sample_215784543, biobank:sample_215784542, -, -, -)\n",
            "    activity(biobank:act_57582, 1988-05-04T08:00:00.024000+01:00, 2020-11-21T12:00:01.024000+01:00, [prov:type=\"pbm:Storing\"])\n",
            "    wasAssociatedWith(biobank:act_57584, biobank:WORKER_7275457, -, [prov:role=\"sort in\"])\n",
            "    used(biobank:SLIDE_215784542, biobank:act_57584, -)\n",
            "  endBundle\n",
            "endDocument\n"
          ]
        }
      ]
    },
    {
      "cell_type": "code",
      "metadata": {
        "id": "G4ggyUFbw7cJ",
        "outputId": "23d605c4-0b1e-43ce-de4a-1413e51c0d24",
        "colab": {
          "base_uri": "https://localhost:8080/"
        }
      },
      "source": [
        "#Print in Json Style\n",
        "jsonstring  = json.loads (document.serialize())\n",
        "print(json.dumps(jsonstring, indent=4))\n"
      ],
      "execution_count": null,
      "outputs": [
        {
          "output_type": "stream",
          "name": "stdout",
          "text": [
            "{\n",
            "    \"prefix\": {\n",
            "        \"cpim\": \"http://cpim.org/\",\n",
            "        \"biobank\": \"http://demo-biobank.org/\",\n",
            "        \"hospital\": \"http://demo-hospital.org/\",\n",
            "        \"default\": \"https://github.com/BBMRI-ERIC/ISO23494-PROV-demonstrator/tree/main/https://github.com/BBMRI-ERIC/ISO23494-PROV-demonstrator/tree/main/Part%203%20-%20Provenance%20of%20Biological%20Specimen/examples-2023/biobank_2020-11-21_5784167\"\n",
            "    },\n",
            "    \"bundle\": {\n",
            "        \"biobank:Biobank_biobank20201121_5784167\": {\n",
            "            \"agent\": {\n",
            "                \"biobank:WORKER_7275457\": {\n",
            "                    \"prov:type\": \"prov:Person\",\n",
            "                    \"name\": \"Anna Aligator\"\n",
            "                },\n",
            "                \"biobank:WORKER_7275987\": {\n",
            "                    \"prov:type\": \"prov:Person\",\n",
            "                    \"name\": \"Tom Turkey\"\n",
            "                }\n",
            "            },\n",
            "            \"entity\": {\n",
            "                \"biobank:sample_215784545\": {\n",
            "                    \"prov:type\": \"Sample\",\n",
            "                    \"cpim:externalId\": \"demo-bb-study2023-08:sample007\"\n",
            "                },\n",
            "                \"biobank:sample_215784544\": {\n",
            "                    \"prov:type\": \"Sample\",\n",
            "                    \"cpim:externalId\": \"2007-PAT-34441208197199889-7780-BLK-LY\"\n",
            "                },\n",
            "                \"biobank:sample_215784543\": {\n",
            "                    \"prov:type\": \"Sample\",\n",
            "                    \"cpim:externalId\": \"2007-PAT-34441208197199889-7780-BLK-LY\"\n",
            "                },\n",
            "                \"biobank:sample_215784542\": {\n",
            "                    \"prov:type\": \"Sample\",\n",
            "                    \"cpim:externalId\": \"2007-PAT-34441208197199889-7780-BLK-LY\"\n",
            "                }\n",
            "            },\n",
            "            \"activity\": {\n",
            "                \"biobank:act_57585\": {\n",
            "                    \"prov:startTime\": \"2020-11-23T10:22:01.024000+01:00\",\n",
            "                    \"prov:endTime\": \"2020-11-21T08:15:00.024000+01:00\",\n",
            "                    \"prov:type\": \"Distribution\"\n",
            "                },\n",
            "                \"biobank:act_57584\": {\n",
            "                    \"prov:startTime\": \"2020-11-22T08:15:01.024000+01:00\",\n",
            "                    \"prov:type\": \"Processing\"\n",
            "                },\n",
            "                \"biobank:act_15754\": {\n",
            "                    \"prov:startTime\": \"2020-11-21T12:00:01.024000+01:00\",\n",
            "                    \"prov:type\": \"Receiving\"\n",
            "                },\n",
            "                \"biobank:act_57582\": {\n",
            "                    \"prov:startTime\": \"1988-05-04T08:00:00.024000+01:00\",\n",
            "                    \"prov:endTime\": \"2020-11-21T12:00:01.024000+01:00\",\n",
            "                    \"prov:type\": \"Storing\"\n",
            "                }\n",
            "            },\n",
            "            \"wasAssociatedWith\": {\n",
            "                \"_:id1\": {\n",
            "                    \"prov:activity\": \"biobank:act_57585\",\n",
            "                    \"prov:agent\": \"biobank:WORKER_7275457\",\n",
            "                    \"prov:role\": \"sort in\"\n",
            "                },\n",
            "                \"_:id4\": [\n",
            "                    {\n",
            "                        \"prov:activity\": \"biobank:act_57584\",\n",
            "                        \"prov:agent\": \"biobank:WORKER_7275457\",\n",
            "                        \"prov:role\": \"sort in\"\n",
            "                    },\n",
            "                    {\n",
            "                        \"prov:activity\": \"biobank:act_57584\",\n",
            "                        \"prov:agent\": \"biobank:WORKER_7275457\",\n",
            "                        \"prov:role\": \"sort in\"\n",
            "                    }\n",
            "                ],\n",
            "                \"_:id7\": {\n",
            "                    \"prov:activity\": \"biobank:act_15754\",\n",
            "                    \"prov:agent\": \"biobank:WORKER_7275987\",\n",
            "                    \"prov:role\": \"pick\"\n",
            "                }\n",
            "            },\n",
            "            \"used\": {\n",
            "                \"_:id2\": {\n",
            "                    \"prov:activity\": \"biobank:sample_215784545\",\n",
            "                    \"prov:entity\": \"biobank:act_57585\"\n",
            "                },\n",
            "                \"_:id5\": {\n",
            "                    \"prov:activity\": \"biobank:sample_215784544\",\n",
            "                    \"prov:entity\": \"biobank:act_57584\"\n",
            "                },\n",
            "                \"_:id8\": {\n",
            "                    \"prov:activity\": \"biobank:sample_2157845433\",\n",
            "                    \"prov:entity\": \"biobank:act_15754\"\n",
            "                },\n",
            "                \"_:id10\": {\n",
            "                    \"prov:activity\": \"biobank:SLIDE_215784542\",\n",
            "                    \"prov:entity\": \"biobank:act_57584\"\n",
            "                }\n",
            "            },\n",
            "            \"wasDerivedFrom\": {\n",
            "                \"_:id3\": {\n",
            "                    \"prov:generatedEntity\": \"biobank:sample_215784545\",\n",
            "                    \"prov:usedEntity\": \"biobank:sample_215784544\"\n",
            "                },\n",
            "                \"_:id6\": {\n",
            "                    \"prov:generatedEntity\": \"biobank:sample_215784544\",\n",
            "                    \"prov:usedEntity\": \"biobank:sample_215784543\"\n",
            "                },\n",
            "                \"_:id9\": {\n",
            "                    \"prov:generatedEntity\": \"biobank:sample_215784543\",\n",
            "                    \"prov:usedEntity\": \"biobank:sample_215784542\"\n",
            "                }\n",
            "            }\n",
            "        }\n",
            "    }\n",
            "}\n"
          ]
        }
      ]
    },
    {
      "cell_type": "code",
      "metadata": {
        "colab": {
          "base_uri": "https://localhost:8080/",
          "height": 949
        },
        "id": "It60N20ww8BK",
        "outputId": "d3797055-ddc1-448f-9ff0-1d84c727612d"
      },
      "source": [
        "#Show SVG\n",
        "dotrep =   prov_to_dot(document)\n",
        "svg_content = dotrep.create(format=\"svg\", encoding=\"utf-8\")\n",
        "SVG(svg_content)"
      ],
      "execution_count": 3,
      "outputs": [
        {
          "output_type": "execute_result",
          "data": {
            "text/plain": [
              "<IPython.core.display.SVG object>"
            ],
            "image/svg+xml": "<svg xmlns=\"http://www.w3.org/2000/svg\" xmlns:xlink=\"http://www.w3.org/1999/xlink\" width=\"1029pt\" height=\"696pt\" viewBox=\"0.00 0.00 1029.00 696.00\">\n<g id=\"graph0\" class=\"graph\" transform=\"scale(1 1) rotate(0) translate(4 692)\">\n<title>G</title>\n<polygon fill=\"white\" stroke=\"transparent\" points=\"-4,4 -4,-692 1025,-692 1025,4 -4,4\"/>\n<g id=\"clust1\" class=\"cluster\">\n<title>cluster_c1</title>\n<g id=\"a_clust1\"><a xlink:href=\"http://demo-biobank.org/Biobank_biobank20201121_5784167\" xlink:title=\"biobank:Biobank_biobank20201121_5784167\">\n<polygon fill=\"none\" stroke=\"black\" points=\"8,-8 8,-680 1013,-680 1013,-8 8,-8\"/>\n<text text-anchor=\"middle\" x=\"510.5\" y=\"-15.8\" font-family=\"Times,serif\" font-size=\"14.00\">biobank:Biobank_biobank20201121_5784167</text>\n</a>\n</g>\n</g>\n<!-- n1 -->\n<g id=\"node1\" class=\"node\">\n<title>n1</title>\n<g id=\"a_node1\"><a xlink:href=\"http://demo-biobank.org/WORKER_7275457\" xlink:title=\"biobank:WORKER_7275457\">\n<polygon fill=\"#fed37f\" stroke=\"black\" points=\"755.39,-586.56 613,-599 470.61,-586.56 470.74,-566.44 755.26,-566.44 755.39,-586.56\"/>\n<text text-anchor=\"middle\" x=\"613\" y=\"-577.3\" font-family=\"Times,serif\" font-size=\"14.00\">biobank:WORKER_7275457</text>\n</a>\n</g>\n</g>\n<!-- ann1 -->\n<g id=\"node2\" class=\"node\">\n<title>ann1</title>\n<polygon fill=\"none\" stroke=\"gray\" points=\"587,-516 471,-516 471,-480 593,-480 593,-510 587,-516\"/>\n<polyline fill=\"none\" stroke=\"gray\" points=\"587,-516 587,-510 \"/>\n<polyline fill=\"none\" stroke=\"gray\" points=\"593,-510 587,-510 \"/>\n<g id=\"a_node2_0\"><a xlink:href=\"http://www.w3.org/ns/prov#type\" xlink:title=\"&lt;TABLE&gt;\">\n<text text-anchor=\"start\" x=\"481\" y=\"-502\" font-family=\"Times,serif\" font-size=\"10.00\">prov:type</text>\n</a>\n</g>\n<text text-anchor=\"start\" x=\"523\" y=\"-502\" font-family=\"Times,serif\" font-size=\"10.00\">prov:Person</text>\n<g id=\"a_node2_1\"><a xlink:href=\"https://github.com/BBMRI-ERIC/ISO23494-PROV-demonstrator/tree/main/https://github.com/BBMRI-ERIC/ISO23494-PROV-demonstrator/tree/main/Part%203%20-%20Provenance%20of%20Biological%20Specimen/examples-2023/biobank_2020-11-21_5784167name\" xlink:title=\"&lt;TABLE&gt;\">\n<text text-anchor=\"start\" x=\"481\" y=\"-489\" font-family=\"Times,serif\" font-size=\"10.00\">name</text>\n</a>\n</g>\n<text text-anchor=\"start\" x=\"523\" y=\"-489\" font-family=\"Times,serif\" font-size=\"10.00\">Anna Aligator</text>\n</g>\n<!-- ann1&#45;&gt;n1 -->\n<g id=\"edge1\" class=\"edge\">\n<title>ann1-&gt;n1</title>\n<path fill=\"none\" stroke=\"gray\" stroke-dasharray=\"5,2\" d=\"M549.18,-516.18C564.13,-531.13 585.52,-552.52 599.33,-566.33\"/>\n</g>\n<!-- n2 -->\n<g id=\"node3\" class=\"node\">\n<title>n2</title>\n<g id=\"a_node3\"><a xlink:href=\"http://demo-biobank.org/WORKER_7275987\" xlink:title=\"biobank:WORKER_7275987\">\n<polygon fill=\"#fed37f\" stroke=\"black\" points=\"561.39,-337.56 419,-350 276.61,-337.56 276.74,-317.44 561.26,-317.44 561.39,-337.56\"/>\n<text text-anchor=\"middle\" x=\"419\" y=\"-328.3\" font-family=\"Times,serif\" font-size=\"14.00\">biobank:WORKER_7275987</text>\n</a>\n</g>\n</g>\n<!-- ann2 -->\n<g id=\"node4\" class=\"node\">\n<title>ann2</title>\n<polygon fill=\"none\" stroke=\"gray\" points=\"759,-267 653,-267 653,-231 765,-231 765,-261 759,-267\"/>\n<polyline fill=\"none\" stroke=\"gray\" points=\"759,-267 759,-261 \"/>\n<polyline fill=\"none\" stroke=\"gray\" points=\"765,-261 759,-261 \"/>\n<g id=\"a_node4_2\"><a xlink:href=\"http://www.w3.org/ns/prov#type\" xlink:title=\"&lt;TABLE&gt;\">\n<text text-anchor=\"start\" x=\"663\" y=\"-253\" font-family=\"Times,serif\" font-size=\"10.00\">prov:type</text>\n</a>\n</g>\n<text text-anchor=\"start\" x=\"705\" y=\"-253\" font-family=\"Times,serif\" font-size=\"10.00\">prov:Person</text>\n<g id=\"a_node4_3\"><a xlink:href=\"https://github.com/BBMRI-ERIC/ISO23494-PROV-demonstrator/tree/main/https://github.com/BBMRI-ERIC/ISO23494-PROV-demonstrator/tree/main/Part%203%20-%20Provenance%20of%20Biological%20Specimen/examples-2023/biobank_2020-11-21_5784167name\" xlink:title=\"&lt;TABLE&gt;\">\n<text text-anchor=\"start\" x=\"663\" y=\"-240\" font-family=\"Times,serif\" font-size=\"10.00\">name</text>\n</a>\n</g>\n<text text-anchor=\"start\" x=\"705\" y=\"-240\" font-family=\"Times,serif\" font-size=\"10.00\">Tom Turkey</text>\n</g>\n<!-- ann2&#45;&gt;n2 -->\n<g id=\"edge2\" class=\"edge\">\n<title>ann2-&gt;n2</title>\n<path fill=\"none\" stroke=\"gray\" stroke-dasharray=\"5,2\" d=\"M652.74,-265.71C599.04,-280.71 518.97,-303.08 467.87,-317.35\"/>\n</g>\n<!-- n3 -->\n<g id=\"node5\" class=\"node\">\n<title>n3</title>\n<g id=\"a_node5\"><a xlink:href=\"http://demo-biobank.org/sample_215784545\" xlink:title=\"biobank:sample_215784545\">\n<ellipse fill=\"#fffc87\" stroke=\"#808080\" cx=\"520\" cy=\"-159.5\" rx=\"110.48\" ry=\"18\"/>\n<text text-anchor=\"middle\" x=\"520\" y=\"-155.8\" font-family=\"Times,serif\" font-size=\"14.00\">biobank:sample_215784545</text>\n</a>\n</g>\n</g>\n<!-- n4 -->\n<g id=\"node7\" class=\"node\">\n<title>n4</title>\n<g id=\"a_node7\"><a xlink:href=\"http://demo-biobank.org/act_57585\" xlink:title=\"biobank:act_57585\">\n<polygon fill=\"#9fb1fc\" stroke=\"#0000ff\" points=\"240,-267 120,-267 120,-231 240,-231 240,-267\"/>\n<text text-anchor=\"middle\" x=\"180\" y=\"-245.3\" font-family=\"Times,serif\" font-size=\"14.00\">biobank:act_57585</text>\n</a>\n</g>\n</g>\n<!-- n3&#45;&gt;n4 -->\n<g id=\"edge14\" class=\"edge\">\n<title>n3-&gt;n4</title>\n<path fill=\"none\" stroke=\"#8b0000\" d=\"M463.47,-175.05C404.86,-190.13 313.13,-213.74 249.98,-229.99\"/>\n<polygon fill=\"#8b0000\" stroke=\"#8b0000\" points=\"248.91,-226.65 240.1,-232.53 250.66,-233.43 248.91,-226.65\"/>\n<text text-anchor=\"middle\" x=\"359.5\" y=\"-205\" font-family=\"Times,serif\" font-size=\"10.00\" fill=\"red\">used</text>\n</g>\n<!-- b2 -->\n<g id=\"node23\" class=\"node\">\n<title>b2</title>\n<ellipse fill=\"gray\" stroke=\"gray\" cx=\"561\" cy=\"-249\" rx=\"1.8\" ry=\"1.8\"/>\n</g>\n<!-- n3&#45;&gt;b2 -->\n<g id=\"edge15\" class=\"edge\">\n<title>n3-&gt;b2</title>\n<path fill=\"none\" stroke=\"black\" d=\"M528.1,-177.79C539.12,-201.3 557.78,-241.13 560.63,-247.21\"/>\n<text text-anchor=\"middle\" x=\"579\" y=\"-205\" font-family=\"Times,serif\" font-size=\"10.00\">wasDerivedFrom</text>\n</g>\n<!-- ann3 -->\n<g id=\"node6\" class=\"node\">\n<title>ann3</title>\n<polygon fill=\"none\" stroke=\"gray\" points=\"547.5,-81.5 322.5,-81.5 322.5,-45.5 553.5,-45.5 553.5,-75.5 547.5,-81.5\"/>\n<polyline fill=\"none\" stroke=\"gray\" points=\"547.5,-81.5 547.5,-75.5 \"/>\n<polyline fill=\"none\" stroke=\"gray\" points=\"553.5,-75.5 547.5,-75.5 \"/>\n<g id=\"a_node6_4\"><a xlink:href=\"http://www.w3.org/ns/prov#type\" xlink:title=\"&lt;TABLE&gt;\">\n<text text-anchor=\"start\" x=\"333\" y=\"-67.5\" font-family=\"Times,serif\" font-size=\"10.00\">prov:type</text>\n</a>\n</g>\n<text text-anchor=\"start\" x=\"400\" y=\"-67.5\" font-family=\"Times,serif\" font-size=\"10.00\">Sample</text>\n<g id=\"a_node6_5\"><a xlink:href=\"http://cpim.org/externalId\" xlink:title=\"&lt;TABLE&gt;\">\n<text text-anchor=\"start\" x=\"333\" y=\"-54.5\" font-family=\"Times,serif\" font-size=\"10.00\">cpim:externalId</text>\n</a>\n</g>\n<text text-anchor=\"start\" x=\"400\" y=\"-54.5\" font-family=\"Times,serif\" font-size=\"10.00\">demo-bb-study2023-08:sample007</text>\n</g>\n<!-- ann3&#45;&gt;n3 -->\n<g id=\"edge3\" class=\"edge\">\n<title>ann3-&gt;n3</title>\n<path fill=\"none\" stroke=\"gray\" stroke-dasharray=\"5,2\" d=\"M453.04,-81.74C467.84,-98.7 490.29,-124.45 505.06,-141.37\"/>\n</g>\n<!-- b1 -->\n<g id=\"node21\" class=\"node\">\n<title>b1</title>\n<ellipse fill=\"gray\" stroke=\"gray\" cx=\"18\" cy=\"-332\" rx=\"1.8\" ry=\"1.8\"/>\n</g>\n<!-- n4&#45;&gt;b1 -->\n<g id=\"edge11\" class=\"edge\">\n<title>n4-&gt;b1</title>\n<path fill=\"none\" stroke=\"#fed37f\" d=\"M119.87,-264.56C89.63,-274.38 54.15,-290.04 29,-314 23.71,-319.04 19.75,-327.11 18.46,-329.96\"/>\n<text text-anchor=\"middle\" x=\"109\" y=\"-288\" font-family=\"Times,serif\" font-size=\"10.00\">wasAssociatedWith</text>\n</g>\n<!-- ann4 -->\n<g id=\"node8\" class=\"node\">\n<title>ann4</title>\n<polygon fill=\"none\" stroke=\"gray\" points=\"386,-184 154,-184 154,-135 392,-135 392,-178 386,-184\"/>\n<polyline fill=\"none\" stroke=\"gray\" points=\"386,-184 386,-178 \"/>\n<polyline fill=\"none\" stroke=\"gray\" points=\"392,-178 386,-178 \"/>\n<g id=\"a_node8_6\"><a xlink:href=\"http://www.w3.org/ns/prov#startTime\" xlink:title=\"&lt;TABLE&gt;\">\n<text text-anchor=\"start\" x=\"164\" y=\"-169.5\" font-family=\"Times,serif\" font-size=\"10.00\">prov:startTime</text>\n</a>\n</g>\n<text text-anchor=\"start\" x=\"227\" y=\"-169.5\" font-family=\"Times,serif\" font-size=\"10.00\">2020-11-23T10:22:01.024000+01:00</text>\n<g id=\"a_node8_7\"><a xlink:href=\"http://www.w3.org/ns/prov#endTime\" xlink:title=\"&lt;TABLE&gt;\">\n<text text-anchor=\"start\" x=\"164\" y=\"-156.5\" font-family=\"Times,serif\" font-size=\"10.00\">prov:endTime</text>\n</a>\n</g>\n<text text-anchor=\"start\" x=\"227\" y=\"-156.5\" font-family=\"Times,serif\" font-size=\"10.00\">2020-11-21T08:15:00.024000+01:00</text>\n<g id=\"a_node8_8\"><a xlink:href=\"http://www.w3.org/ns/prov#type\" xlink:title=\"&lt;TABLE&gt;\">\n<text text-anchor=\"start\" x=\"164\" y=\"-143.5\" font-family=\"Times,serif\" font-size=\"10.00\">prov:type</text>\n</a>\n</g>\n<text text-anchor=\"start\" x=\"227\" y=\"-143.5\" font-family=\"Times,serif\" font-size=\"10.00\">Distribution</text>\n</g>\n<!-- ann4&#45;&gt;n4 -->\n<g id=\"edge4\" class=\"edge\">\n<title>ann4-&gt;n4</title>\n<path fill=\"none\" stroke=\"gray\" stroke-dasharray=\"5,2\" d=\"M247.59,-184.41C231.99,-199.08 212.38,-217.54 198.3,-230.78\"/>\n</g>\n<!-- n5 -->\n<g id=\"node9\" class=\"node\">\n<title>n5</title>\n<g id=\"a_node9\"><a xlink:href=\"http://demo-biobank.org/sample_215784544\" xlink:title=\"biobank:sample_215784544\">\n<ellipse fill=\"#fffc87\" stroke=\"#808080\" cx=\"148\" cy=\"-332\" rx=\"110.48\" ry=\"18\"/>\n<text text-anchor=\"middle\" x=\"148\" y=\"-328.3\" font-family=\"Times,serif\" font-size=\"14.00\">biobank:sample_215784544</text>\n</a>\n</g>\n</g>\n<!-- n6 -->\n<g id=\"node11\" class=\"node\">\n<title>n6</title>\n<g id=\"a_node11\"><a xlink:href=\"http://demo-biobank.org/act_57584\" xlink:title=\"biobank:act_57584\">\n<polygon fill=\"#9fb1fc\" stroke=\"#0000ff\" points=\"758,-433 638,-433 638,-397 758,-397 758,-433\"/>\n<text text-anchor=\"middle\" x=\"698\" y=\"-411.3\" font-family=\"Times,serif\" font-size=\"14.00\">biobank:act_57584</text>\n</a>\n</g>\n</g>\n<!-- n5&#45;&gt;n6 -->\n<g id=\"edge20\" class=\"edge\">\n<title>n5-&gt;n6</title>\n<path fill=\"none\" stroke=\"#8b0000\" d=\"M228.02,-344.46C241.37,-346.34 255.07,-348.24 268,-350 425.04,-371.35 468.22,-367.33 627.7,-396.87\"/>\n<polygon fill=\"#8b0000\" stroke=\"#8b0000\" points=\"627.4,-400.37 637.88,-398.77 628.69,-393.49 627.4,-400.37\"/>\n<text text-anchor=\"middle\" x=\"526.5\" y=\"-371\" font-family=\"Times,serif\" font-size=\"10.00\" fill=\"red\">used</text>\n</g>\n<!-- b4 -->\n<g id=\"node26\" class=\"node\">\n<title>b4</title>\n<ellipse fill=\"gray\" stroke=\"gray\" cx=\"342\" cy=\"-415\" rx=\"1.8\" ry=\"1.8\"/>\n</g>\n<!-- n5&#45;&gt;b4 -->\n<g id=\"edge21\" class=\"edge\">\n<title>n5-&gt;b4</title>\n<path fill=\"none\" stroke=\"black\" d=\"M223.91,-345.09C266.64,-352.46 313.02,-361.66 321,-368 336.95,-380.66 341.24,-408.15 341.9,-413.2\"/>\n<text text-anchor=\"middle\" x=\"364\" y=\"-371\" font-family=\"Times,serif\" font-size=\"10.00\">wasDerivedFrom</text>\n</g>\n<!-- ann5 -->\n<g id=\"node10\" class=\"node\">\n<title>ann5</title>\n<polygon fill=\"none\" stroke=\"gray\" points=\"535.5,-267 258.5,-267 258.5,-231 541.5,-231 541.5,-261 535.5,-267\"/>\n<polyline fill=\"none\" stroke=\"gray\" points=\"535.5,-267 535.5,-261 \"/>\n<polyline fill=\"none\" stroke=\"gray\" points=\"541.5,-261 535.5,-261 \"/>\n<g id=\"a_node10_9\"><a xlink:href=\"http://www.w3.org/ns/prov#type\" xlink:title=\"&lt;TABLE&gt;\">\n<text text-anchor=\"start\" x=\"269\" y=\"-253\" font-family=\"Times,serif\" font-size=\"10.00\">prov:type</text>\n</a>\n</g>\n<text text-anchor=\"start\" x=\"336\" y=\"-253\" font-family=\"Times,serif\" font-size=\"10.00\">Sample</text>\n<g id=\"a_node10_10\"><a xlink:href=\"http://cpim.org/externalId\" xlink:title=\"&lt;TABLE&gt;\">\n<text text-anchor=\"start\" x=\"269\" y=\"-240\" font-family=\"Times,serif\" font-size=\"10.00\">cpim:externalId</text>\n</a>\n</g>\n<text text-anchor=\"start\" x=\"336\" y=\"-240\" font-family=\"Times,serif\" font-size=\"10.00\">2007-PAT-34441208197199889-7780-BLK-LY</text>\n</g>\n<!-- ann5&#45;&gt;n5 -->\n<g id=\"edge5\" class=\"edge\">\n<title>ann5-&gt;n5</title>\n<path fill=\"none\" stroke=\"gray\" stroke-dasharray=\"5,2\" d=\"M346.87,-267.08C302.1,-281.47 238.64,-301.87 195.53,-315.72\"/>\n</g>\n<!-- b3 -->\n<g id=\"node24\" class=\"node\">\n<title>b3</title>\n<ellipse fill=\"gray\" stroke=\"gray\" cx=\"613\" cy=\"-498\" rx=\"1.8\" ry=\"1.8\"/>\n</g>\n<!-- n6&#45;&gt;b3 -->\n<g id=\"edge17\" class=\"edge\">\n<title>n6-&gt;b3</title>\n<path fill=\"none\" stroke=\"#fed37f\" d=\"M641.1,-433.21C633.02,-437.84 625.57,-443.67 620,-451 609.05,-465.4 611.9,-489.82 612.79,-495.7\"/>\n<text text-anchor=\"middle\" x=\"661\" y=\"-454\" font-family=\"Times,serif\" font-size=\"10.00\">wasAssociatedWith</text>\n</g>\n<!-- b7 -->\n<g id=\"node31\" class=\"node\">\n<title>b7</title>\n<ellipse fill=\"gray\" stroke=\"gray\" cx=\"718\" cy=\"-498\" rx=\"1.8\" ry=\"1.8\"/>\n</g>\n<!-- n6&#45;&gt;b7 -->\n<g id=\"edge29\" class=\"edge\">\n<title>n6-&gt;b7</title>\n<path fill=\"none\" stroke=\"#fed37f\" d=\"M702.24,-433.18C707.56,-454.73 716.18,-489.63 717.75,-495.99\"/>\n<text text-anchor=\"middle\" x=\"750\" y=\"-454\" font-family=\"Times,serif\" font-size=\"10.00\">wasAssociatedWith</text>\n</g>\n<!-- ann6 -->\n<g id=\"node12\" class=\"node\">\n<title>ann6</title>\n<polygon fill=\"none\" stroke=\"gray\" points=\"811,-350 579,-350 579,-314 817,-314 817,-344 811,-350\"/>\n<polyline fill=\"none\" stroke=\"gray\" points=\"811,-350 811,-344 \"/>\n<polyline fill=\"none\" stroke=\"gray\" points=\"817,-344 811,-344 \"/>\n<g id=\"a_node12_11\"><a xlink:href=\"http://www.w3.org/ns/prov#startTime\" xlink:title=\"&lt;TABLE&gt;\">\n<text text-anchor=\"start\" x=\"589\" y=\"-336\" font-family=\"Times,serif\" font-size=\"10.00\">prov:startTime</text>\n</a>\n</g>\n<text text-anchor=\"start\" x=\"652\" y=\"-336\" font-family=\"Times,serif\" font-size=\"10.00\">2020-11-22T08:15:01.024000+01:00</text>\n<g id=\"a_node12_12\"><a xlink:href=\"http://www.w3.org/ns/prov#type\" xlink:title=\"&lt;TABLE&gt;\">\n<text text-anchor=\"start\" x=\"589\" y=\"-323\" font-family=\"Times,serif\" font-size=\"10.00\">prov:type</text>\n</a>\n</g>\n<text text-anchor=\"start\" x=\"652\" y=\"-323\" font-family=\"Times,serif\" font-size=\"10.00\">Processing</text>\n</g>\n<!-- ann6&#45;&gt;n6 -->\n<g id=\"edge6\" class=\"edge\">\n<title>ann6-&gt;n6</title>\n<path fill=\"none\" stroke=\"gray\" stroke-dasharray=\"5,2\" d=\"M698,-350.18C698,-363.92 698,-383.11 698,-396.85\"/>\n</g>\n<!-- n7 -->\n<g id=\"node13\" class=\"node\">\n<title>n7</title>\n<g id=\"a_node13\"><a xlink:href=\"http://demo-biobank.org/sample_215784543\" xlink:title=\"biobank:sample_215784543\">\n<ellipse fill=\"#fffc87\" stroke=\"#808080\" cx=\"158\" cy=\"-498\" rx=\"110.48\" ry=\"18\"/>\n<text text-anchor=\"middle\" x=\"158\" y=\"-494.3\" font-family=\"Times,serif\" font-size=\"14.00\">biobank:sample_215784543</text>\n</a>\n</g>\n</g>\n<!-- b6 -->\n<g id=\"node30\" class=\"node\">\n<title>b6</title>\n<ellipse fill=\"gray\" stroke=\"gray\" cx=\"150\" cy=\"-581\" rx=\"1.8\" ry=\"1.8\"/>\n</g>\n<!-- n7&#45;&gt;b6 -->\n<g id=\"edge27\" class=\"edge\">\n<title>n7-&gt;b6</title>\n<path fill=\"none\" stroke=\"black\" d=\"M156.3,-516.18C154.18,-537.73 150.73,-572.63 150.1,-578.99\"/>\n<text text-anchor=\"middle\" x=\"189\" y=\"-537\" font-family=\"Times,serif\" font-size=\"10.00\">wasDerivedFrom</text>\n</g>\n<!-- ann7 -->\n<g id=\"node14\" class=\"node\">\n<title>ann7</title>\n<polygon fill=\"none\" stroke=\"gray\" points=\"293.5,-433 16.5,-433 16.5,-397 299.5,-397 299.5,-427 293.5,-433\"/>\n<polyline fill=\"none\" stroke=\"gray\" points=\"293.5,-433 293.5,-427 \"/>\n<polyline fill=\"none\" stroke=\"gray\" points=\"299.5,-427 293.5,-427 \"/>\n<g id=\"a_node14_13\"><a xlink:href=\"http://www.w3.org/ns/prov#type\" xlink:title=\"&lt;TABLE&gt;\">\n<text text-anchor=\"start\" x=\"27\" y=\"-419\" font-family=\"Times,serif\" font-size=\"10.00\">prov:type</text>\n</a>\n</g>\n<text text-anchor=\"start\" x=\"94\" y=\"-419\" font-family=\"Times,serif\" font-size=\"10.00\">Sample</text>\n<g id=\"a_node14_14\"><a xlink:href=\"http://cpim.org/externalId\" xlink:title=\"&lt;TABLE&gt;\">\n<text text-anchor=\"start\" x=\"27\" y=\"-406\" font-family=\"Times,serif\" font-size=\"10.00\">cpim:externalId</text>\n</a>\n</g>\n<text text-anchor=\"start\" x=\"94\" y=\"-406\" font-family=\"Times,serif\" font-size=\"10.00\">2007-PAT-34441208197199889-7780-BLK-LY</text>\n</g>\n<!-- ann7&#45;&gt;n7 -->\n<g id=\"edge7\" class=\"edge\">\n<title>ann7-&gt;n7</title>\n<path fill=\"none\" stroke=\"gray\" stroke-dasharray=\"5,2\" d=\"M158,-433.18C158,-446.92 158,-466.11 158,-479.85\"/>\n</g>\n<!-- n8 -->\n<g id=\"node15\" class=\"node\">\n<title>n8</title>\n<g id=\"a_node15\"><a xlink:href=\"http://demo-biobank.org/act_15754\" xlink:title=\"biobank:act_15754\">\n<polygon fill=\"#9fb1fc\" stroke=\"#0000ff\" points=\"865,-177.5 745,-177.5 745,-141.5 865,-141.5 865,-177.5\"/>\n<text text-anchor=\"middle\" x=\"805\" y=\"-155.8\" font-family=\"Times,serif\" font-size=\"14.00\">biobank:act_15754</text>\n</a>\n</g>\n</g>\n<!-- b5 -->\n<g id=\"node27\" class=\"node\">\n<title>b5</title>\n<ellipse fill=\"gray\" stroke=\"gray\" cx=\"633\" cy=\"-249\" rx=\"1.8\" ry=\"1.8\"/>\n</g>\n<!-- n8&#45;&gt;b5 -->\n<g id=\"edge23\" class=\"edge\">\n<title>n8-&gt;b5</title>\n<path fill=\"none\" stroke=\"#fed37f\" d=\"M758.01,-177.61C717.24,-193.07 662.02,-215.68 644,-231 638.43,-235.74 634.65,-244 633.43,-246.93\"/>\n<text text-anchor=\"middle\" x=\"737\" y=\"-205\" font-family=\"Times,serif\" font-size=\"10.00\">wasAssociatedWith</text>\n</g>\n<!-- ann8 -->\n<g id=\"node16\" class=\"node\">\n<title>ann8</title>\n<polygon fill=\"none\" stroke=\"gray\" points=\"999,-81.5 767,-81.5 767,-45.5 1005,-45.5 1005,-75.5 999,-81.5\"/>\n<polyline fill=\"none\" stroke=\"gray\" points=\"999,-81.5 999,-75.5 \"/>\n<polyline fill=\"none\" stroke=\"gray\" points=\"1005,-75.5 999,-75.5 \"/>\n<g id=\"a_node16_15\"><a xlink:href=\"http://www.w3.org/ns/prov#startTime\" xlink:title=\"&lt;TABLE&gt;\">\n<text text-anchor=\"start\" x=\"777\" y=\"-67.5\" font-family=\"Times,serif\" font-size=\"10.00\">prov:startTime</text>\n</a>\n</g>\n<text text-anchor=\"start\" x=\"840\" y=\"-67.5\" font-family=\"Times,serif\" font-size=\"10.00\">2020-11-21T12:00:01.024000+01:00</text>\n<g id=\"a_node16_16\"><a xlink:href=\"http://www.w3.org/ns/prov#type\" xlink:title=\"&lt;TABLE&gt;\">\n<text text-anchor=\"start\" x=\"777\" y=\"-54.5\" font-family=\"Times,serif\" font-size=\"10.00\">prov:type</text>\n</a>\n</g>\n<text text-anchor=\"start\" x=\"840\" y=\"-54.5\" font-family=\"Times,serif\" font-size=\"10.00\">Receiving</text>\n</g>\n<!-- ann8&#45;&gt;n8 -->\n<g id=\"edge8\" class=\"edge\">\n<title>ann8-&gt;n8</title>\n<path fill=\"none\" stroke=\"gray\" stroke-dasharray=\"5,2\" d=\"M871.14,-81.74C856.53,-98.7 834.34,-124.45 819.76,-141.37\"/>\n</g>\n<!-- n9 -->\n<g id=\"node17\" class=\"node\">\n<title>n9</title>\n<g id=\"a_node17\"><a xlink:href=\"http://demo-biobank.org/sample_215784542\" xlink:title=\"biobank:sample_215784542\">\n<ellipse fill=\"#fffc87\" stroke=\"#808080\" cx=\"230\" cy=\"-654\" rx=\"110.48\" ry=\"18\"/>\n<text text-anchor=\"middle\" x=\"230\" y=\"-650.3\" font-family=\"Times,serif\" font-size=\"14.00\">biobank:sample_215784542</text>\n</a>\n</g>\n</g>\n<!-- ann9 -->\n<g id=\"node18\" class=\"node\">\n<title>ann9</title>\n<polygon fill=\"none\" stroke=\"gray\" points=\"446.5,-599 169.5,-599 169.5,-563 452.5,-563 452.5,-593 446.5,-599\"/>\n<polyline fill=\"none\" stroke=\"gray\" points=\"446.5,-599 446.5,-593 \"/>\n<polyline fill=\"none\" stroke=\"gray\" points=\"452.5,-593 446.5,-593 \"/>\n<g id=\"a_node18_17\"><a xlink:href=\"http://www.w3.org/ns/prov#type\" xlink:title=\"&lt;TABLE&gt;\">\n<text text-anchor=\"start\" x=\"180\" y=\"-585\" font-family=\"Times,serif\" font-size=\"10.00\">prov:type</text>\n</a>\n</g>\n<text text-anchor=\"start\" x=\"247\" y=\"-585\" font-family=\"Times,serif\" font-size=\"10.00\">Sample</text>\n<g id=\"a_node18_18\"><a xlink:href=\"http://cpim.org/externalId\" xlink:title=\"&lt;TABLE&gt;\">\n<text text-anchor=\"start\" x=\"180\" y=\"-572\" font-family=\"Times,serif\" font-size=\"10.00\">cpim:externalId</text>\n</a>\n</g>\n<text text-anchor=\"start\" x=\"247\" y=\"-572\" font-family=\"Times,serif\" font-size=\"10.00\">2007-PAT-34441208197199889-7780-BLK-LY</text>\n</g>\n<!-- ann9&#45;&gt;n9 -->\n<g id=\"edge9\" class=\"edge\">\n<title>ann9-&gt;n9</title>\n<path fill=\"none\" stroke=\"gray\" stroke-dasharray=\"5,2\" d=\"M291.39,-599.19C278.56,-610.43 261.88,-625.05 249.15,-636.22\"/>\n</g>\n<!-- n10 -->\n<g id=\"node19\" class=\"node\">\n<title>n10</title>\n<g id=\"a_node19\"><a xlink:href=\"http://demo-biobank.org/act_57582\" xlink:title=\"biobank:act_57582\">\n<polygon fill=\"#9fb1fc\" stroke=\"#0000ff\" points=\"136,-177.5 16,-177.5 16,-141.5 136,-141.5 136,-177.5\"/>\n<text text-anchor=\"middle\" x=\"76\" y=\"-155.8\" font-family=\"Times,serif\" font-size=\"14.00\">biobank:act_57582</text>\n</a>\n</g>\n</g>\n<!-- ann10 -->\n<g id=\"node20\" class=\"node\">\n<title>ann10</title>\n<polygon fill=\"none\" stroke=\"gray\" points=\"248.5,-88 15.5,-88 15.5,-39 254.5,-39 254.5,-82 248.5,-88\"/>\n<polyline fill=\"none\" stroke=\"gray\" points=\"248.5,-88 248.5,-82 \"/>\n<polyline fill=\"none\" stroke=\"gray\" points=\"254.5,-82 248.5,-82 \"/>\n<g id=\"a_node20_19\"><a xlink:href=\"http://www.w3.org/ns/prov#startTime\" xlink:title=\"&lt;TABLE&gt;\">\n<text text-anchor=\"start\" x=\"26\" y=\"-73.5\" font-family=\"Times,serif\" font-size=\"10.00\">prov:startTime</text>\n</a>\n</g>\n<text text-anchor=\"start\" x=\"89\" y=\"-73.5\" font-family=\"Times,serif\" font-size=\"10.00\">1988-05-04T08:00:00.024000+01:00</text>\n<g id=\"a_node20_20\"><a xlink:href=\"http://www.w3.org/ns/prov#endTime\" xlink:title=\"&lt;TABLE&gt;\">\n<text text-anchor=\"start\" x=\"26\" y=\"-60.5\" font-family=\"Times,serif\" font-size=\"10.00\">prov:endTime</text>\n</a>\n</g>\n<text text-anchor=\"start\" x=\"89\" y=\"-60.5\" font-family=\"Times,serif\" font-size=\"10.00\">2020-11-21T12:00:01.024000+01:00</text>\n<g id=\"a_node20_21\"><a xlink:href=\"http://www.w3.org/ns/prov#type\" xlink:title=\"&lt;TABLE&gt;\">\n<text text-anchor=\"start\" x=\"26\" y=\"-47.5\" font-family=\"Times,serif\" font-size=\"10.00\">prov:type</text>\n</a>\n</g>\n<text text-anchor=\"start\" x=\"89\" y=\"-47.5\" font-family=\"Times,serif\" font-size=\"10.00\">Storing</text>\n</g>\n<!-- ann10&#45;&gt;n10 -->\n<g id=\"edge10\" class=\"edge\">\n<title>ann10-&gt;n10</title>\n<path fill=\"none\" stroke=\"gray\" stroke-dasharray=\"5,2\" d=\"M120.11,-88.22C109.73,-104.75 96.13,-126.43 86.79,-141.31\"/>\n</g>\n<!-- b1&#45;&gt;n1 -->\n<g id=\"edge12\" class=\"edge\">\n<title>b1-&gt;n1</title>\n<path fill=\"none\" stroke=\"#fed37f\" d=\"M18.26,-333.81C19.19,-336.59 22.65,-345.83 29,-350 134.45,-419.3 204.45,-326.35 309,-397 324.54,-407.5 317.85,-419.63 331,-433 379.34,-482.13 400.95,-484 462,-516 496.13,-533.89 536.38,-550.76 566.74,-562.68\"/>\n<polygon fill=\"#fed37f\" stroke=\"#fed37f\" points=\"565.64,-566 576.23,-566.37 568.18,-559.48 565.64,-566\"/>\n</g>\n<!-- ann11 -->\n<g id=\"node22\" class=\"node\">\n<title>ann11</title>\n<polygon fill=\"none\" stroke=\"gray\" points=\"96,-267 16,-267 16,-231 102,-231 102,-261 96,-267\"/>\n<polyline fill=\"none\" stroke=\"gray\" points=\"96,-267 96,-261 \"/>\n<polyline fill=\"none\" stroke=\"gray\" points=\"102,-261 96,-261 \"/>\n<g id=\"a_node22_22\"><a xlink:href=\"http://www.w3.org/ns/prov#role\" xlink:title=\"&lt;TABLE&gt;\">\n<text text-anchor=\"start\" x=\"26\" y=\"-246\" font-family=\"Times,serif\" font-size=\"10.00\">prov:role</text>\n</a>\n</g>\n<text text-anchor=\"start\" x=\"66\" y=\"-246\" font-family=\"Times,serif\" font-size=\"10.00\">sort in</text>\n</g>\n<!-- ann11&#45;&gt;b1 -->\n<g id=\"edge13\" class=\"edge\">\n<title>ann11-&gt;b1</title>\n<path fill=\"none\" stroke=\"gray\" stroke-dasharray=\"5,2\" d=\"M50.3,-267.18C39.4,-288.73 21.73,-323.63 18.51,-329.99\"/>\n</g>\n<!-- b2&#45;&gt;n5 -->\n<g id=\"edge16\" class=\"edge\">\n<title>b2-&gt;n5</title>\n<path fill=\"none\" stroke=\"black\" d=\"M560.79,-250.81C560.03,-253.6 557.11,-262.83 551,-267 544.51,-271.42 353.64,-300.43 236.94,-317.84\"/>\n<polygon fill=\"black\" stroke=\"black\" points=\"236.31,-314.39 226.93,-319.33 237.34,-321.32 236.31,-314.39\"/>\n</g>\n<!-- b3&#45;&gt;n1 -->\n<g id=\"edge18\" class=\"edge\">\n<title>b3-&gt;n1</title>\n<path fill=\"none\" stroke=\"#fed37f\" d=\"M613,-499.91C613,-505.41 613,-534.72 613,-556.3\"/>\n<polygon fill=\"#fed37f\" stroke=\"#fed37f\" points=\"609.5,-556.42 613,-566.42 616.5,-556.42 609.5,-556.42\"/>\n</g>\n<!-- ann12 -->\n<g id=\"node25\" class=\"node\">\n<title>ann12</title>\n<polygon fill=\"none\" stroke=\"gray\" points=\"614,-433 534,-433 534,-397 620,-397 620,-427 614,-433\"/>\n<polyline fill=\"none\" stroke=\"gray\" points=\"614,-433 614,-427 \"/>\n<polyline fill=\"none\" stroke=\"gray\" points=\"620,-427 614,-427 \"/>\n<g id=\"a_node25_23\"><a xlink:href=\"http://www.w3.org/ns/prov#role\" xlink:title=\"&lt;TABLE&gt;\">\n<text text-anchor=\"start\" x=\"544\" y=\"-412\" font-family=\"Times,serif\" font-size=\"10.00\">prov:role</text>\n</a>\n</g>\n<text text-anchor=\"start\" x=\"584\" y=\"-412\" font-family=\"Times,serif\" font-size=\"10.00\">sort in</text>\n</g>\n<!-- ann12&#45;&gt;b3 -->\n<g id=\"edge19\" class=\"edge\">\n<title>ann12-&gt;b3</title>\n<path fill=\"none\" stroke=\"gray\" stroke-dasharray=\"5,2\" d=\"M581.02,-433C583.39,-441.85 586.77,-452.74 591,-462 592.73,-465.79 609.39,-491.46 612.5,-496.23\"/>\n</g>\n<!-- b4&#45;&gt;n7 -->\n<g id=\"edge22\" class=\"edge\">\n<title>b4-&gt;n7</title>\n<path fill=\"none\" stroke=\"black\" d=\"M340.99,-416.56C336.98,-418.75 321.84,-426.98 309,-433 275.38,-448.76 236.84,-465.06 207.11,-477.28\"/>\n<polygon fill=\"black\" stroke=\"black\" points=\"205.71,-474.06 197.78,-481.09 208.36,-480.54 205.71,-474.06\"/>\n</g>\n<!-- b5&#45;&gt;n2 -->\n<g id=\"edge24\" class=\"edge\">\n<title>b5-&gt;n2</title>\n<path fill=\"none\" stroke=\"#fed37f\" d=\"M631.63,-250.52C619.09,-255.27 523.09,-291.6 464.45,-313.8\"/>\n<polygon fill=\"#fed37f\" stroke=\"#fed37f\" points=\"463.14,-310.55 455.03,-317.36 465.62,-317.1 463.14,-310.55\"/>\n</g>\n<!-- ann13 -->\n<g id=\"node28\" class=\"node\">\n<title>ann13</title>\n<polygon fill=\"none\" stroke=\"gray\" points=\"721.5,-177.5 648.5,-177.5 648.5,-141.5 727.5,-141.5 727.5,-171.5 721.5,-177.5\"/>\n<polyline fill=\"none\" stroke=\"gray\" points=\"721.5,-177.5 721.5,-171.5 \"/>\n<polyline fill=\"none\" stroke=\"gray\" points=\"727.5,-171.5 721.5,-171.5 \"/>\n<g id=\"a_node28_24\"><a xlink:href=\"http://www.w3.org/ns/prov#role\" xlink:title=\"&lt;TABLE&gt;\">\n<text text-anchor=\"start\" x=\"659\" y=\"-156.5\" font-family=\"Times,serif\" font-size=\"10.00\">prov:role</text>\n</a>\n</g>\n<text text-anchor=\"start\" x=\"699\" y=\"-156.5\" font-family=\"Times,serif\" font-size=\"10.00\">pick</text>\n</g>\n<!-- ann13&#45;&gt;b5 -->\n<g id=\"edge25\" class=\"edge\">\n<title>ann13-&gt;b5</title>\n<path fill=\"none\" stroke=\"gray\" stroke-dasharray=\"5,2\" d=\"M677.13,-177.79C662.36,-201.3 637.32,-241.13 633.5,-247.21\"/>\n</g>\n<!-- n11 -->\n<g id=\"node29\" class=\"node\">\n<title>n11</title>\n<g id=\"a_node29\"><a xlink:href=\"http://demo-biobank.org/sample_2157845433\" xlink:title=\"biobank:sample_2157845433\">\n<polygon fill=\"lightgray\" stroke=\"dimgray\" points=\"748.5,-81.5 571.5,-81.5 571.5,-45.5 748.5,-45.5 748.5,-81.5\"/>\n<text text-anchor=\"middle\" x=\"660\" y=\"-59.8\" font-family=\"Times,serif\" font-size=\"14.00\">biobank:sample_2157845433</text>\n</a>\n</g>\n</g>\n<!-- n11&#45;&gt;n8 -->\n<g id=\"edge26\" class=\"edge\">\n<title>n11-&gt;n8</title>\n<path fill=\"none\" stroke=\"#8b0000\" d=\"M686.26,-81.52C709.62,-96.67 743.97,-118.94 769.73,-135.63\"/>\n<polygon fill=\"#8b0000\" stroke=\"#8b0000\" points=\"768.15,-138.78 778.45,-141.29 771.96,-132.91 768.15,-138.78\"/>\n<text text-anchor=\"middle\" x=\"745.5\" y=\"-109\" font-family=\"Times,serif\" font-size=\"10.00\" fill=\"red\">used</text>\n</g>\n<!-- b6&#45;&gt;n9 -->\n<g id=\"edge28\" class=\"edge\">\n<title>b6-&gt;n9</title>\n<path fill=\"none\" stroke=\"black\" d=\"M150.49,-583C151.89,-585.75 156.07,-593.6 161,-599 171.41,-610.38 184.39,-621.22 196.28,-630.16\"/>\n<polygon fill=\"black\" stroke=\"black\" points=\"194.56,-633.23 204.7,-636.31 198.69,-627.58 194.56,-633.23\"/>\n</g>\n<!-- b7&#45;&gt;n1 -->\n<g id=\"edge30\" class=\"edge\">\n<title>b7-&gt;n1</title>\n<path fill=\"none\" stroke=\"#fed37f\" d=\"M716.82,-499.91C709.27,-505.74 667.08,-538.28 638.86,-560.05\"/>\n<polygon fill=\"#fed37f\" stroke=\"#fed37f\" points=\"636.38,-557.54 630.6,-566.42 640.66,-563.08 636.38,-557.54\"/>\n</g>\n<!-- ann14 -->\n<g id=\"node32\" class=\"node\">\n<title>ann14</title>\n<polygon fill=\"none\" stroke=\"gray\" points=\"856,-433 776,-433 776,-397 862,-397 862,-427 856,-433\"/>\n<polyline fill=\"none\" stroke=\"gray\" points=\"856,-433 856,-427 \"/>\n<polyline fill=\"none\" stroke=\"gray\" points=\"862,-427 856,-427 \"/>\n<g id=\"a_node32_25\"><a xlink:href=\"http://www.w3.org/ns/prov#role\" xlink:title=\"&lt;TABLE&gt;\">\n<text text-anchor=\"start\" x=\"786\" y=\"-412\" font-family=\"Times,serif\" font-size=\"10.00\">prov:role</text>\n</a>\n</g>\n<text text-anchor=\"start\" x=\"826\" y=\"-412\" font-family=\"Times,serif\" font-size=\"10.00\">sort in</text>\n</g>\n<!-- ann14&#45;&gt;b7 -->\n<g id=\"edge31\" class=\"edge\">\n<title>ann14-&gt;b7</title>\n<path fill=\"none\" stroke=\"gray\" stroke-dasharray=\"5,2\" d=\"M813.28,-433.05C809.37,-442.57 803.37,-454.07 795,-462 770.69,-485.02 728.61,-494.8 719.69,-496.66\"/>\n</g>\n<!-- n12 -->\n<g id=\"node33\" class=\"node\">\n<title>n12</title>\n<g id=\"a_node33\"><a xlink:href=\"http://demo-biobank.org/SLIDE_215784542\" xlink:title=\"biobank:SLIDE_215784542\">\n<polygon fill=\"lightgray\" stroke=\"dimgray\" points=\"1005,-350 835,-350 835,-314 1005,-314 1005,-350\"/>\n<text text-anchor=\"middle\" x=\"920\" y=\"-328.3\" font-family=\"Times,serif\" font-size=\"14.00\">biobank:SLIDE_215784542</text>\n</a>\n</g>\n</g>\n<!-- n12&#45;&gt;n6 -->\n<g id=\"edge32\" class=\"edge\">\n<title>n12-&gt;n6</title>\n<path fill=\"none\" stroke=\"#8b0000\" d=\"M873.19,-350.08C838.51,-362.73 791.09,-380.04 754.33,-393.45\"/>\n<polygon fill=\"#8b0000\" stroke=\"#8b0000\" points=\"752.94,-390.23 744.75,-396.94 755.34,-396.8 752.94,-390.23\"/>\n<text text-anchor=\"middle\" x=\"831.5\" y=\"-371\" font-family=\"Times,serif\" font-size=\"10.00\" fill=\"red\">used</text>\n</g>\n</g>\n</svg>"
          },
          "metadata": {},
          "execution_count": 3
        }
      ]
    },
    {
      "cell_type": "code",
      "source": [
        "provn = document.serialize(format='provn')\n",
        "print(provn)"
      ],
      "metadata": {
        "colab": {
          "base_uri": "https://localhost:8080/"
        },
        "id": "pWN10pSSZWtF",
        "outputId": "d0177bd2-5288-4175-8a68-7cf97d0df4a9"
      },
      "execution_count": 4,
      "outputs": [
        {
          "output_type": "stream",
          "name": "stdout",
          "text": [
            "document\n",
            "  default <https://github.com/BBMRI-ERIC/ISO23494-PROV-demonstrator/tree/main/https://github.com/BBMRI-ERIC/ISO23494-PROV-demonstrator/tree/main/Part%203%20-%20Provenance%20of%20Biological%20Specimen/examples-2023/biobank_2020-11-21_5784167>\n",
            "  prefix cpim <http://cpim.org/>\n",
            "  prefix biobank <http://demo-biobank.org/>\n",
            "  prefix hospital <http://demo-hospital.org/>\n",
            "  \n",
            "  bundle biobank:Biobank_biobank20201121_5784167\n",
            "    agent(biobank:WORKER_7275457, [prov:type=\"prov:Person\", name=\"Anna Aligator\"])\n",
            "    agent(biobank:WORKER_7275987, [prov:type=\"prov:Person\", name=\"Tom Turkey\"])\n",
            "    entity(biobank:sample_215784545, [prov:type=\"Sample\", cpim:externalId=\"demo-bb-study2023-08:sample007\"])\n",
            "    activity(biobank:act_57585, 2020-11-23T10:22:01.024000+01:00, 2020-11-21T08:15:00.024000+01:00, [prov:type=\"Distribution\"])\n",
            "    wasAssociatedWith(biobank:act_57585, biobank:WORKER_7275457, -, [prov:role=\"sort in\"])\n",
            "    used(biobank:sample_215784545, biobank:act_57585, -)\n",
            "    entity(biobank:sample_215784544, [prov:type=\"Sample\", cpim:externalId=\"2007-PAT-34441208197199889-7780-BLK-LY\"])\n",
            "    wasDerivedFrom(biobank:sample_215784545, biobank:sample_215784544, -, -, -)\n",
            "    activity(biobank:act_57584, 2020-11-22T08:15:01.024000+01:00, -, [prov:type=\"Processing\"])\n",
            "    wasAssociatedWith(biobank:act_57584, biobank:WORKER_7275457, -, [prov:role=\"sort in\"])\n",
            "    used(biobank:sample_215784544, biobank:act_57584, -)\n",
            "    entity(biobank:sample_215784543, [prov:type=\"Sample\", cpim:externalId=\"2007-PAT-34441208197199889-7780-BLK-LY\"])\n",
            "    wasDerivedFrom(biobank:sample_215784544, biobank:sample_215784543, -, -, -)\n",
            "    activity(biobank:act_15754, 2020-11-21T12:00:01.024000+01:00, -, [prov:type=\"Receiving\"])\n",
            "    wasAssociatedWith(biobank:act_15754, biobank:WORKER_7275987, -, [prov:role=\"pick\"])\n",
            "    used(biobank:sample_2157845433, biobank:act_15754, -)\n",
            "    entity(biobank:sample_215784542, [prov:type=\"Sample\", cpim:externalId=\"2007-PAT-34441208197199889-7780-BLK-LY\"])\n",
            "    wasDerivedFrom(biobank:sample_215784543, biobank:sample_215784542, -, -, -)\n",
            "    activity(biobank:act_57582, 1988-05-04T08:00:00.024000+01:00, 2020-11-21T12:00:01.024000+01:00, [prov:type=\"Storing\"])\n",
            "    wasAssociatedWith(biobank:act_57584, biobank:WORKER_7275457, -, [prov:role=\"sort in\"])\n",
            "    used(biobank:SLIDE_215784542, biobank:act_57584, -)\n",
            "  endBundle\n",
            "endDocument\n"
          ]
        }
      ]
    }
  ]
}
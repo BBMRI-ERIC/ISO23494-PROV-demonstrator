{
  "nbformat": 4,
  "nbformat_minor": 0,
  "metadata": {
    "colab": {
      "name": "sample-scanning-prov-demo.ipynb",
      "provenance": [],
      "authorship_tag": "ABX9TyPNw87NpzcYUdw1HvbZO9YZ",
      "include_colab_link": true
    },
    "kernelspec": {
      "name": "python3",
      "display_name": "Python 3"
    }
  },
  "cells": [
    {
      "cell_type": "markdown",
      "metadata": {
        "id": "view-in-github",
        "colab_type": "text"
      },
      "source": [
        "<a href=\"https://colab.research.google.com/github/BBMRI-ERIC/ISO23494-PROV-demonstrator/blob/main/PBS/scanning-workflow/sample_scanning_prov_demo.ipynb\" target=\"_parent\"><img src=\"https://colab.research.google.com/assets/colab-badge.svg\" alt=\"Open In Colab\"/></a>"
      ]
    },
    {
      "cell_type": "markdown",
      "metadata": {
        "id": "OHfXYhczSuWy"
      },
      "source": [
        "# SCANNING PROV SUB PROCEDURE"
      ]
    },
    {
      "cell_type": "markdown",
      "metadata": {
        "id": "Qaa27Eq6StDU"
      },
      "source": [
        ""
      ]
    },
    {
      "cell_type": "code",
      "metadata": {
        "id": "WBRYD_U5Ttgw",
        "outputId": "c3423b67-0b81-410b-d196-798660045789",
        "colab": {
          "base_uri": "https://localhost:8080/"
        }
      },
      "source": [
        "#\n",
        "# INSTALL THE NECESSARY PACKAGES\n",
        "#\n",
        "!pip install prov"
      ],
      "execution_count": 1,
      "outputs": [
        {
          "output_type": "stream",
          "text": [
            "Collecting prov\n",
            "\u001b[?25l  Downloading https://files.pythonhosted.org/packages/aa/f1/85f277cf15ce2fed6f189b220ff14d7b33b21cc7beb95ae48f1255672e74/prov-1.5.3-py2.py3-none-any.whl (423kB)\n",
            "\u001b[K     |████████████████████████████████| 430kB 7.8MB/s \n",
            "\u001b[?25hRequirement already satisfied: lxml>=3.3.5 in /usr/local/lib/python3.6/dist-packages (from prov) (4.2.6)\n",
            "Requirement already satisfied: networkx>=2.0 in /usr/local/lib/python3.6/dist-packages (from prov) (2.5)\n",
            "Requirement already satisfied: python-dateutil>=2.2 in /usr/local/lib/python3.6/dist-packages (from prov) (2.8.1)\n",
            "Collecting rdflib>=4.2.1\n",
            "\u001b[?25l  Downloading https://files.pythonhosted.org/packages/d0/6b/6454aa1db753c0f8bc265a5bd5c10b5721a4bb24160fb4faf758cf6be8a1/rdflib-5.0.0-py3-none-any.whl (231kB)\n",
            "\u001b[K     |████████████████████████████████| 235kB 12.8MB/s \n",
            "\u001b[?25hRequirement already satisfied: six>=1.9.0 in /usr/local/lib/python3.6/dist-packages (from prov) (1.15.0)\n",
            "Requirement already satisfied: decorator>=4.3.0 in /usr/local/lib/python3.6/dist-packages (from networkx>=2.0->prov) (4.4.2)\n",
            "Requirement already satisfied: pyparsing in /usr/local/lib/python3.6/dist-packages (from rdflib>=4.2.1->prov) (2.4.7)\n",
            "Collecting isodate\n",
            "\u001b[?25l  Downloading https://files.pythonhosted.org/packages/9b/9f/b36f7774ff5ea8e428fdcfc4bb332c39ee5b9362ddd3d40d9516a55221b2/isodate-0.6.0-py2.py3-none-any.whl (45kB)\n",
            "\u001b[K     |████████████████████████████████| 51kB 6.4MB/s \n",
            "\u001b[?25hInstalling collected packages: isodate, rdflib, prov\n",
            "Successfully installed isodate-0.6.0 prov-1.5.3 rdflib-5.0.0\n"
          ],
          "name": "stdout"
        }
      ]
    },
    {
      "cell_type": "code",
      "metadata": {
        "id": "YJCwoltCT42C"
      },
      "source": [
        ""
      ],
      "execution_count": null,
      "outputs": []
    },
    {
      "cell_type": "code",
      "metadata": {
        "id": "lNPGQIEVT439",
        "outputId": "ac251c1d-90a3-48c3-8c72-45c32039d3a4",
        "colab": {
          "base_uri": "https://localhost:8080/"
        }
      },
      "source": [
        "import prov.model as prov\n",
        "import json\n",
        "\n",
        "document = prov.ProvDocument()\n",
        "\n",
        "document.set_default_namespace('https://github.com/BBMRI-ERIC/ISO23494-PROV-demonstrator/tree/main/PBS/scanning-workflow/')\n",
        "document.add_namespace('ex1', 'https://github.com/BBMRI-ERIC/ISO23494-PROV-demonstrator/tree/main/PBS/scanning-workflow/1/')\n",
        "document.add_namespace('ex2', 'https://github.com/BBMRI-ERIC/ISO23494-PROV-demonstrator/tree/main/PBS/scanning-workflow/2/')\n",
        "\n",
        "document.entity('e001')\n",
        "\n",
        "bundle = document.bundle('e001')\n",
        "bundle.set_default_namespace('https://github.com/BBMRI-ERIC/ISO23494-PROV-demonstrator/tree/main/PBS/scanning-workflow/2/')\n",
        "bundle.entity('e001')\n",
        "\n",
        "document.get_provn() # =>\n",
        "\n",
        "# document\n",
        "#   default <http://example.org/0/>\n",
        "#   prefix ex2 <http://example.org/2/>\n",
        "#   prefix ex1 <http://example.org/1/>\n",
        "#\n",
        "#   entity(e001)\n",
        "#   bundle e001\n",
        "#     default <http://example.org/2/>\n",
        "#\n",
        "#     entity(e001)\n",
        "#   endBundle\n",
        "# endDocument\n",
        "\n",
        "jsonstring  = json.loads (document.serialize()) # =>\n",
        "\n",
        "print(json.dumps(jsonstring, indent=4))\n",
        "\n",
        "# {\"prefix\": {\"default\": \"http://example.org/0/\", \"ex2\": \"http://example.org/2/\", \"ex1\": \"http://example.org/1/\"}, \"bundle\": {\"e001\": {\"prefix\": {\"default\": \"http://example.org/2/\"}, \"entity\": {\"e001\": {}}}}, \"entity\": {\"e001\": {}}}\n"
      ],
      "execution_count": 8,
      "outputs": [
        {
          "output_type": "stream",
          "text": [
            "{\n",
            "    \"prefix\": {\n",
            "        \"ex1\": \"https://github.com/BBMRI-ERIC/ISO23494-PROV-demonstrator/tree/main/PBS/scanning-workflow/1/\",\n",
            "        \"ex2\": \"https://github.com/BBMRI-ERIC/ISO23494-PROV-demonstrator/tree/main/PBS/scanning-workflow/2/\",\n",
            "        \"default\": \"https://github.com/BBMRI-ERIC/ISO23494-PROV-demonstrator/tree/main/PBS/scanning-workflow/\"\n",
            "    },\n",
            "    \"entity\": {\n",
            "        \"e001\": {}\n",
            "    },\n",
            "    \"bundle\": {\n",
            "        \"e001\": {\n",
            "            \"prefix\": {\n",
            "                \"default\": \"https://github.com/BBMRI-ERIC/ISO23494-PROV-demonstrator/tree/main/PBS/scanning-workflow/2/\"\n",
            "            },\n",
            "            \"entity\": {\n",
            "                \"e001\": {}\n",
            "            }\n",
            "        }\n",
            "    }\n",
            "}\n"
          ],
          "name": "stdout"
        }
      ]
    }
  ]
}
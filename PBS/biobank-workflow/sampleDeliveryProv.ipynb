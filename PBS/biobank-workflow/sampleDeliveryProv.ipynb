{
  "nbformat": 4,
  "nbformat_minor": 0,
  "metadata": {
    "colab": {
      "name": "Untitled0.ipynb",
      "provenance": [],
      "authorship_tag": "ABX9TyOhC6gh5Idfh46kCQSXAB8J",
      "include_colab_link": true
    },
    "kernelspec": {
      "name": "python3",
      "display_name": "Python 3"
    }
  },
  "cells": [
    {
      "cell_type": "markdown",
      "metadata": {
        "id": "view-in-github",
        "colab_type": "text"
      },
      "source": [
        "<a href=\"https://colab.research.google.com/github/BBMRI-ERIC/ISO23494-PROV-demonstrator/blob/main/PBS/biobank-workflow/sampleDeliveryProv.ipynb\" target=\"_parent\"><img src=\"https://colab.research.google.com/assets/colab-badge.svg\" alt=\"Open In Colab\"/></a>"
      ]
    },
    {
      "cell_type": "code",
      "metadata": {
        "colab": {
          "base_uri": "https://localhost:8080/"
        },
        "id": "U0_gVaW2WTyA",
        "outputId": "853c7ffb-3daa-4694-d16d-3653affe52d3"
      },
      "source": [
        "#\n",
        "# INSTALL PACKAGES\n",
        "#\n",
        "!pip install prov"
      ],
      "execution_count": 1,
      "outputs": [
        {
          "output_type": "stream",
          "text": [
            "Collecting prov\n",
            "\u001b[?25l  Downloading https://files.pythonhosted.org/packages/cf/8d/9a5110845c6b117d203e3ca9eec5ee79bed29cef508c8415fbc85e900150/prov-2.0.0-py3-none-any.whl (421kB)\n",
            "\u001b[K     |████████████████████████████████| 430kB 5.8MB/s \n",
            "\u001b[?25hCollecting rdflib>=4.2.1\n",
            "\u001b[?25l  Downloading https://files.pythonhosted.org/packages/d0/6b/6454aa1db753c0f8bc265a5bd5c10b5721a4bb24160fb4faf758cf6be8a1/rdflib-5.0.0-py3-none-any.whl (231kB)\n",
            "\u001b[K     |████████████████████████████████| 235kB 16.7MB/s \n",
            "\u001b[?25hRequirement already satisfied: python-dateutil>=2.2 in /usr/local/lib/python3.6/dist-packages (from prov) (2.8.1)\n",
            "Requirement already satisfied: networkx>=2.0 in /usr/local/lib/python3.6/dist-packages (from prov) (2.5)\n",
            "Requirement already satisfied: lxml>=3.3.5 in /usr/local/lib/python3.6/dist-packages (from prov) (4.2.6)\n",
            "Collecting isodate\n",
            "\u001b[?25l  Downloading https://files.pythonhosted.org/packages/9b/9f/b36f7774ff5ea8e428fdcfc4bb332c39ee5b9362ddd3d40d9516a55221b2/isodate-0.6.0-py2.py3-none-any.whl (45kB)\n",
            "\u001b[K     |████████████████████████████████| 51kB 5.4MB/s \n",
            "\u001b[?25hRequirement already satisfied: pyparsing in /usr/local/lib/python3.6/dist-packages (from rdflib>=4.2.1->prov) (2.4.7)\n",
            "Requirement already satisfied: six in /usr/local/lib/python3.6/dist-packages (from rdflib>=4.2.1->prov) (1.15.0)\n",
            "Requirement already satisfied: decorator>=4.3.0 in /usr/local/lib/python3.6/dist-packages (from networkx>=2.0->prov) (4.4.2)\n",
            "Installing collected packages: isodate, rdflib, prov\n",
            "Successfully installed isodate-0.6.0 prov-2.0.0 rdflib-5.0.0\n"
          ],
          "name": "stdout"
        }
      ]
    },
    {
      "cell_type": "code",
      "metadata": {
        "colab": {
          "base_uri": "https://localhost:8080/"
        },
        "id": "cnr5xR9JWU1N",
        "outputId": "63c35022-aaba-4520-d61b-b2d3bedd3c03"
      },
      "source": [
        "import prov.model as prov\n",
        "import json\n",
        "document = prov.ProvDocument()\n",
        "\n",
        "document.set_default_namespace('https://github.com/BBMRI-ERIC/ISO23494-PROV-demonstrator/tree/main/PBS/Biobank')\n",
        "document.add_namespace('cpim', 'http://cpim.org/')\n",
        "\n",
        "document.entity('e001')\n",
        "delivery20201121_5784167 = document.bundle('e001')\n",
        "\n",
        "delivery20201121_5784167.set_default_namespace('https://github.com/BBMRI-ERIC/ISO23494-PROV-demonstrator/tree/main/PBS/Biobank/delivery_2020-11-21_5784167/')\n",
        "\n",
        "\n",
        "delivery20201121_5784167.entity('SLIDE_215784545', ((prov.PROV_TYPE, \"Slide\"),('cpim:externalId', \"HansHuber_1988-05-04_Tumor_4\")))\n",
        "\n",
        "delivery20201121_5784167.agent('WORKER_7275457', {prov.PROV_TYPE: 'prov:Person', 'name': \"Anna Aligator\"})\n",
        "delivery20201121_5784167.agent('WORKER_7275987', {prov.PROV_TYPE: 'prov:Person', 'name': \"Tom Turkey\"})\n",
        "\n",
        "delivery20201121_5784167.wasAssociatedWith('SLIDE_215784545', 'WORKER_7275457',None,None, {prov.PROV_ROLE: \"storing\"})\n",
        "\n",
        "storing = document.activity('a1', '1988-05-04T08:00:00.024000+01:00','2020-11-21T08:15:00.024000+01:00', {prov.PROV_TYPE: \"edit\"})\n",
        "\n",
        "\n",
        "document.get_provn() # =>\n",
        "\n",
        "\n",
        "\n",
        "jsonstring  = json.loads (document.serialize()) # =>\n",
        "\n",
        "print(json.dumps(jsonstring, indent=4))\n"
      ],
      "execution_count": 2,
      "outputs": [
        {
          "output_type": "stream",
          "text": [
            "{\n",
            "    \"prefix\": {\n",
            "        \"cpim\": \"http://cpim.org/\",\n",
            "        \"default\": \"https://github.com/BBMRI-ERIC/ISO23494-PROV-demonstrator/tree/main/PBS/Biobank\"\n",
            "    },\n",
            "    \"entity\": {\n",
            "        \"e001\": {}\n",
            "    },\n",
            "    \"activity\": {\n",
            "        \"a1\": {\n",
            "            \"prov:startTime\": \"1988-05-04T08:00:00.024000+01:00\",\n",
            "            \"prov:endTime\": \"2020-11-21T08:15:00.024000+01:00\",\n",
            "            \"prov:type\": \"edit\"\n",
            "        }\n",
            "    },\n",
            "    \"bundle\": {\n",
            "        \"e001\": {\n",
            "            \"prefix\": {\n",
            "                \"default\": \"https://github.com/BBMRI-ERIC/ISO23494-PROV-demonstrator/tree/main/PBS/Biobank/delivery_2020-11-21_5784167/\"\n",
            "            },\n",
            "            \"entity\": {\n",
            "                \"SLIDE_215784545\": {\n",
            "                    \"prov:type\": \"Slide\",\n",
            "                    \"cpim:externalId\": \"HansHuber_1988-05-04_Tumor_4\"\n",
            "                }\n",
            "            },\n",
            "            \"agent\": {\n",
            "                \"WORKER_7275457\": {\n",
            "                    \"prov:type\": \"prov:Person\",\n",
            "                    \"name\": \"Anna Aligator\"\n",
            "                },\n",
            "                \"WORKER_7275987\": {\n",
            "                    \"prov:type\": \"prov:Person\",\n",
            "                    \"name\": \"Tom Turkey\"\n",
            "                }\n",
            "            },\n",
            "            \"wasAssociatedWith\": {\n",
            "                \"_:id1\": {\n",
            "                    \"prov:activity\": \"SLIDE_215784545\",\n",
            "                    \"prov:agent\": \"WORKER_7275457\",\n",
            "                    \"prov:role\": \"storing\"\n",
            "                }\n",
            "            }\n",
            "        }\n",
            "    }\n",
            "}\n"
          ],
          "name": "stdout"
        }
      ]
    }
  ]
}
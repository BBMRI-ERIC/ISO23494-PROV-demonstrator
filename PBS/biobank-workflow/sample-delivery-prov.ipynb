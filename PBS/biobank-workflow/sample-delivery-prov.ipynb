{
  "nbformat": 4,
  "nbformat_minor": 0,
  "metadata": {
    "colab": {
      "name": "sample-scanning-prov-demo.ipynb",
      "provenance": [],
      "authorship_tag": "ABX9TyOM77oMhoGqjUBlHSe53FxD",
      "include_colab_link": true
    },
    "kernelspec": {
      "name": "python3",
      "display_name": "Python 3"
    }
  },
  "cells": [
    {
      "cell_type": "markdown",
      "metadata": {
        "id": "view-in-github",
        "colab_type": "text"
      },
      "source": [
        "<a href=\"https://colab.research.google.com/github/BBMRI-ERIC/ISO23494-PROV-demonstrator/blob/main/PBS/generic_prov_demo.ipynb\" target=\"_parent\"><img src=\"https://colab.research.google.com/assets/colab-badge.svg\" alt=\"Open In Colab\"/></a>"
      ]
    },
    {
      "cell_type": "markdown",
      "metadata": {
        "id": "OHfXYhczSuWy"
      },
      "source": [
        "# GENERIC PROV MODEL FOR SAMPLE MANIPULATAION\n"
      ]
    },
    {
      "cell_type": "markdown",
      "metadata": {
        "id": "Qaa27Eq6StDU"
      },
      "source": [
        ""
      ]
    },
    {
      "cell_type": "code",
      "metadata": {
        "id": "WBRYD_U5Ttgw"
      },
      "source": [
        "#\n",
        "# INSTALL PACKAGES\n",
        "#\n",
        "!pip install prov"
      ],
      "execution_count": null,
      "outputs": []
    },
    {
      "cell_type": "code",
      "metadata": {
        "id": "lNPGQIEVT439",
        "outputId": "ac251c1d-90a3-48c3-8c72-45c32039d3a4",
        "colab": {
          "base_uri": "https://localhost:8080/"
        }
      },
      "source": [
        "import prov.model as prov\n",
        "import json\n",
        "\n",
        "document = prov.ProvDocument()\n",
        "\n",
        "document.set_default_namespace('https://github.com/BBMRI-ERIC/ISO23494-PROV-demonstrator/tree/main/PBS/scanning-workflow/')\n",
        "document.add_namespace('ex1', 'https://github.com/BBMRI-ERIC/ISO23494-PROV-demonstrator/tree/main/PBS/scanning-workflow/1/')\n",
        "document.add_namespace('ex2', 'https://github.com/BBMRI-ERIC/ISO23494-PROV-demonstrator/tree/main/PBS/scanning-workflow/2/')\n",
        "\n",
        "document.entity('e001')\n",
        "\n",
        "bundle = document.bundle('e001')\n",
        "bundle.set_default_namespace('https://github.com/BBMRI-ERIC/ISO23494-PROV-demonstrator/tree/main/PBS/scanning-workflow/2/')\n",
        "bundle.entity('e001')\n",
        "\n",
        "document.get_provn() # =>\n",
        "\n",
        "# document\n",
        "#   default <http://example.org/0/>\n",
        "#   prefix ex2 <http://example.org/2/>\n",
        "#   prefix ex1 <http://example.org/1/>\n",
        "#\n",
        "#   entity(e001)\n",
        "#   bundle e001\n",
        "#     default <http://example.org/2/>\n",
        "#\n",
        "#     entity(e001)\n",
        "#   endBundle\n",
        "# endDocument\n",
        "\n",
        "jsonstring  = json.loads (document.serialize()) # =>\n",
        "\n",
        "print(json.dumps(jsonstring, indent=4))\n",
        "\n",
        "# {\"prefix\": {\"default\": \"http://example.org/0/\", \"ex2\": \"http://example.org/2/\", \"ex1\": \"http://example.org/1/\"}, \"bundle\": {\"e001\": {\"prefix\": {\"default\": \"http://example.org/2/\"}, \"entity\": {\"e001\": {}}}}, \"entity\": {\"e001\": {}}}\n"
      ],
      "execution_count": null,
      "outputs": [
        {
          "output_type": "stream",
          "text": [
            "{\n",
            "    \"prefix\": {\n",
            "        \"ex1\": \"https://github.com/BBMRI-ERIC/ISO23494-PROV-demonstrator/tree/main/PBS/scanning-workflow/1/\",\n",
            "        \"ex2\": \"https://github.com/BBMRI-ERIC/ISO23494-PROV-demonstrator/tree/main/PBS/scanning-workflow/2/\",\n",
            "        \"default\": \"https://github.com/BBMRI-ERIC/ISO23494-PROV-demonstrator/tree/main/PBS/scanning-workflow/\"\n",
            "    },\n",
            "    \"entity\": {\n",
            "        \"e001\": {}\n",
            "    },\n",
            "    \"bundle\": {\n",
            "        \"e001\": {\n",
            "            \"prefix\": {\n",
            "                \"default\": \"https://github.com/BBMRI-ERIC/ISO23494-PROV-demonstrator/tree/main/PBS/scanning-workflow/2/\"\n",
            "            },\n",
            "            \"entity\": {\n",
            "                \"e001\": {}\n",
            "            }\n",
            "        }\n",
            "    }\n",
            "}\n"
          ],
          "name": "stdout"
        }
      ]
    }
  ]
}